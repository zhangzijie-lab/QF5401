{
 "cells": [
  {
   "cell_type": "code",
   "execution_count": 2,
   "metadata": {},
   "outputs": [],
   "source": [
    "import sys\n",
    "import os\n",
    "import pandas as pd\n",
    "import numpy as np\n",
    "import matplotlib.pyplot as plt\n",
    "import yfinance as yf\n",
    "from datetime import datetime\n",
    "from datetime import timedelta\n",
    "# import measures"
   ]
  },
  {
   "cell_type": "code",
   "execution_count": 4,
   "metadata": {},
   "outputs": [],
   "source": [
    "import bs4 as bs\n",
    "import pickle\n",
    "import requests\n",
    "\n",
    "def save_sp500_tickers():\n",
    "    resp = requests.get('http://en.wikipedia.org/wiki/List_of_S%26P_500_companies')\n",
    "    soup = bs.BeautifulSoup(resp.text, 'lxml')\n",
    "    table = soup.find('table', {'class': 'wikitable sortable'})\n",
    "    tickers = []\n",
    "    for row in table.findAll('tr')[1:]:\n",
    "        ticker = row.findAll('td')[0].text\n",
    "        tickers.append(ticker)\n",
    "\n",
    "    with open(\"sp500tickers.pickle\",\"wb\") as f:\n",
    "        pickle.dump(tickers,f)\n",
    "\n",
    "    return tickers"
   ]
  },
  {
   "cell_type": "code",
   "execution_count": 5,
   "metadata": {},
   "outputs": [],
   "source": [
    "tickers = save_sp500_tickers()"
   ]
  },
  {
   "cell_type": "code",
   "execution_count": 13,
   "metadata": {},
   "outputs": [],
   "source": [
    "tickers = list(map(lambda x: x.replace('\\n', ''), tickers))"
   ]
  },
  {
   "cell_type": "code",
   "execution_count": 7,
   "metadata": {},
   "outputs": [],
   "source": [
    "start = datetime(2005, 1, 1)\n",
    "end = datetime.today()"
   ]
  },
  {
   "cell_type": "code",
   "execution_count": 14,
   "metadata": {},
   "outputs": [
    {
     "data": {
      "text/html": [
       "<div>\n",
       "<style scoped>\n",
       "    .dataframe tbody tr th:only-of-type {\n",
       "        vertical-align: middle;\n",
       "    }\n",
       "\n",
       "    .dataframe tbody tr th {\n",
       "        vertical-align: top;\n",
       "    }\n",
       "\n",
       "    .dataframe thead th {\n",
       "        text-align: right;\n",
       "    }\n",
       "</style>\n",
       "<table border=\"1\" class=\"dataframe\">\n",
       "  <thead>\n",
       "    <tr style=\"text-align: right;\">\n",
       "      <th></th>\n",
       "      <th>MMM</th>\n",
       "      <th>ABT</th>\n",
       "      <th>ABBV</th>\n",
       "      <th>ABMD</th>\n",
       "      <th>ACN</th>\n",
       "      <th>ATVI</th>\n",
       "      <th>ADBE</th>\n",
       "      <th>AMD</th>\n",
       "      <th>AAP</th>\n",
       "      <th>AES</th>\n",
       "      <th>...</th>\n",
       "      <th>WLTW</th>\n",
       "      <th>WYNN</th>\n",
       "      <th>XEL</th>\n",
       "      <th>XLNX</th>\n",
       "      <th>XYL</th>\n",
       "      <th>YUM</th>\n",
       "      <th>ZBRA</th>\n",
       "      <th>ZBH</th>\n",
       "      <th>ZION</th>\n",
       "      <th>ZTS</th>\n",
       "    </tr>\n",
       "  </thead>\n",
       "  <tbody>\n",
       "  </tbody>\n",
       "</table>\n",
       "<p>0 rows × 505 columns</p>\n",
       "</div>"
      ],
      "text/plain": [
       "Empty DataFrame\n",
       "Columns: [MMM, ABT, ABBV, ABMD, ACN, ATVI, ADBE, AMD, AAP, AES, AFL, A, APD, AKAM, ALK, ALB, ARE, ALXN, ALGN, ALLE, LNT, ALL, GOOGL, GOOG, MO, AMZN, AMCR, AEE, AAL, AEP, AXP, AIG, AMT, AWK, AMP, ABC, AME, AMGN, APH, ADI, ANSS, ANTM, AON, AOS, APA, AAPL, AMAT, APTV, ADM, ANET, AJG, AIZ, T, ATO, ADSK, ADP, AZO, AVB, AVY, BKR, BLL, BAC, BK, BAX, BDX, BRK.B, BBY, BIO, BIIB, BLK, BA, BKNG, BWA, BXP, BSX, BMY, AVGO, BR, BF.B, CHRW, COG, CDNS, CZR, CPB, COF, CAH, KMX, CCL, CARR, CTLT, CAT, CBOE, CBRE, CDW, CE, CNC, CNP, CERN, CF, SCHW, ...]\n",
       "Index: []\n",
       "\n",
       "[0 rows x 505 columns]"
      ]
     },
     "execution_count": 14,
     "metadata": {},
     "output_type": "execute_result"
    }
   ],
   "source": [
    "price_table = pd.DataFrame(columns=tickers)\n",
    "price_table"
   ]
  },
  {
   "cell_type": "code",
   "execution_count": 15,
   "metadata": {},
   "outputs": [
    {
     "name": "stdout",
     "output_type": "stream",
     "text": [
      "- BRK.B: No data found, symbol may be delisted\n",
      "- BF.B: No data found for this date range, symbol may be delisted\n"
     ]
    }
   ],
   "source": [
    "for ticker in tickers:\n",
    "    asset = yf.Ticker(ticker)\n",
    "    asset_p = asset.history(start=start, end=end)['Close']\n",
    "    price_table[ticker] = asset_p"
   ]
  },
  {
   "cell_type": "code",
   "execution_count": 21,
   "metadata": {},
   "outputs": [],
   "source": [
    "price_table.drop(columns=['BRK.B', 'BF.B'], inplace=True)"
   ]
  },
  {
   "cell_type": "code",
   "execution_count": 16,
   "metadata": {},
   "outputs": [],
   "source": [
    "sp500 = yf.Ticker('^GSPC')"
   ]
  },
  {
   "cell_type": "code",
   "execution_count": 106,
   "metadata": {},
   "outputs": [],
   "source": [
    "sp500_p = sp500.history(start=start, end=end)"
   ]
  },
  {
   "cell_type": "code",
   "execution_count": 29,
   "metadata": {},
   "outputs": [],
   "source": [
    "sp500_p_cummax = sp500_p['Close'].cummax()\n",
    "sp500_p_cummin = sp500_p['Close'].cummin()"
   ]
  },
  {
   "cell_type": "code",
   "execution_count": 108,
   "metadata": {},
   "outputs": [
    {
     "data": {
      "image/png": "[encoded data removed]",
      "text/plain": [
       "<Figure size 864x576 with 1 Axes>"
      ]
     },
     "metadata": {
      "needs_background": "light"
     },
     "output_type": "display_data"
    }
   ],
   "source": [
    "plt.figure(figsize=(12, 8))\n",
    "plt.plot(sp500_p['Close'])\n",
    "plt.plot(sp500_p_cummax);"
   ]
  },
  {
   "cell_type": "code",
   "execution_count": 69,
   "metadata": {},
   "outputs": [],
   "source": [
    "threshold_bear = .15\n",
    "threshold_bull = .2"
   ]
  },
  {
   "cell_type": "code",
   "execution_count": 109,
   "metadata": {},
   "outputs": [],
   "source": [
    "t0 = 0\n",
    "period_max = sp500_p['Close'].iloc[t0]\n",
    "period_min = sp500_p['Close'].iloc[t0]\n",
    "bull = []\n",
    "bear = []\n",
    "indicator = True\n",
    "for i in range(sp500_p.shape[0]):\n",
    "    \n",
    "    cur = sp500_p['Close'].iloc[i]\n",
    "    \n",
    "    if indicator:\n",
    "        if cur > period_max:\n",
    "            period_max = cur\n",
    "            t_peak = i\n",
    "\n",
    "        if (period_max - cur)/period_max > threshold_bear:\n",
    "            bull.append((t0, t_peak))\n",
    "            t0 = t_peak\n",
    "    #         period_max = sp500_p.iloc[t_peak]\n",
    "            period_min = cur\n",
    "            indicator = False\n",
    "    else:\n",
    "        if cur < period_min:\n",
    "            period_min = cur\n",
    "            t_trough = i\n",
    "\n",
    "        if (cur - period_min)/period_min > threshold_bull:\n",
    "            bear.append((t0, t_trough))\n",
    "            t0 = t_trough\n",
    "            period_max = cur\n",
    "    #         period_min = sp500_p.iloc[t_trough]\n",
    "            indicator = True\n"
   ]
  },
  {
   "cell_type": "code",
   "execution_count": 110,
   "metadata": {},
   "outputs": [
    {
     "data": {
      "text/plain": [
       "([(0, 697),\n",
       "  (980, 1010),\n",
       "  (1052, 1336),\n",
       "  (1385, 1593),\n",
       "  (1701, 3454),\n",
       "  (3519, 3808)],\n",
       " [(697, 980),\n",
       "  (1010, 1052),\n",
       "  (1336, 1385),\n",
       "  (1593, 1701),\n",
       "  (3454, 3519),\n",
       "  (3808, 3831)])"
      ]
     },
     "execution_count": 110,
     "metadata": {},
     "output_type": "execute_result"
    }
   ],
   "source": [
    "bull, bear"
   ]
  },
  {
   "cell_type": "code",
   "execution_count": 111,
   "metadata": {},
   "outputs": [],
   "source": [
    "sp500_p['class'] = 1"
   ]
  },
  {
   "cell_type": "code",
   "execution_count": 112,
   "metadata": {},
   "outputs": [
    {
     "data": {
      "text/html": [
       "<div>\n",
       "<style scoped>\n",
       "    .dataframe tbody tr th:only-of-type {\n",
       "        vertical-align: middle;\n",
       "    }\n",
       "\n",
       "    .dataframe tbody tr th {\n",
       "        vertical-align: top;\n",
       "    }\n",
       "\n",
       "    .dataframe thead th {\n",
       "        text-align: right;\n",
       "    }\n",
       "</style>\n",
       "<table border=\"1\" class=\"dataframe\">\n",
       "  <thead>\n",
       "    <tr style=\"text-align: right;\">\n",
       "      <th></th>\n",
       "      <th>Open</th>\n",
       "      <th>High</th>\n",
       "      <th>Low</th>\n",
       "      <th>Close</th>\n",
       "      <th>Volume</th>\n",
       "      <th>Dividends</th>\n",
       "      <th>Stock Splits</th>\n",
       "      <th>class</th>\n",
       "    </tr>\n",
       "    <tr>\n",
       "      <th>Date</th>\n",
       "      <th></th>\n",
       "      <th></th>\n",
       "      <th></th>\n",
       "      <th></th>\n",
       "      <th></th>\n",
       "      <th></th>\n",
       "      <th></th>\n",
       "      <th></th>\n",
       "    </tr>\n",
       "  </thead>\n",
       "  <tbody>\n",
       "    <tr>\n",
       "      <th>2021-04-07</th>\n",
       "      <td>4074.290039</td>\n",
       "      <td>4083.129883</td>\n",
       "      <td>4068.310059</td>\n",
       "      <td>4079.949951</td>\n",
       "      <td>4112640000</td>\n",
       "      <td>0</td>\n",
       "      <td>0</td>\n",
       "      <td>1</td>\n",
       "    </tr>\n",
       "    <tr>\n",
       "      <th>2021-04-08</th>\n",
       "      <td>4089.949951</td>\n",
       "      <td>4098.189941</td>\n",
       "      <td>4082.540039</td>\n",
       "      <td>4097.169922</td>\n",
       "      <td>3901910000</td>\n",
       "      <td>0</td>\n",
       "      <td>0</td>\n",
       "      <td>1</td>\n",
       "    </tr>\n",
       "    <tr>\n",
       "      <th>2021-04-09</th>\n",
       "      <td>4096.109863</td>\n",
       "      <td>4129.479980</td>\n",
       "      <td>4095.510010</td>\n",
       "      <td>4128.799805</td>\n",
       "      <td>3634910000</td>\n",
       "      <td>0</td>\n",
       "      <td>0</td>\n",
       "      <td>1</td>\n",
       "    </tr>\n",
       "    <tr>\n",
       "      <th>2021-04-12</th>\n",
       "      <td>4124.709961</td>\n",
       "      <td>4131.759766</td>\n",
       "      <td>4114.819824</td>\n",
       "      <td>4127.990234</td>\n",
       "      <td>3578500000</td>\n",
       "      <td>0</td>\n",
       "      <td>0</td>\n",
       "      <td>1</td>\n",
       "    </tr>\n",
       "    <tr>\n",
       "      <th>2021-04-13</th>\n",
       "      <td>4130.100098</td>\n",
       "      <td>4148.000000</td>\n",
       "      <td>4124.430176</td>\n",
       "      <td>4141.589844</td>\n",
       "      <td>3728440000</td>\n",
       "      <td>0</td>\n",
       "      <td>0</td>\n",
       "      <td>1</td>\n",
       "    </tr>\n",
       "  </tbody>\n",
       "</table>\n",
       "</div>"
      ],
      "text/plain": [
       "                   Open         High          Low        Close      Volume  \\\n",
       "Date                                                                         \n",
       "2021-04-07  4074.290039  4083.129883  4068.310059  4079.949951  4112640000   \n",
       "2021-04-08  4089.949951  4098.189941  4082.540039  4097.169922  3901910000   \n",
       "2021-04-09  4096.109863  4129.479980  4095.510010  4128.799805  3634910000   \n",
       "2021-04-12  4124.709961  4131.759766  4114.819824  4127.990234  3578500000   \n",
       "2021-04-13  4130.100098  4148.000000  4124.430176  4141.589844  3728440000   \n",
       "\n",
       "            Dividends  Stock Splits  class  \n",
       "Date                                        \n",
       "2021-04-07          0             0      1  \n",
       "2021-04-08          0             0      1  \n",
       "2021-04-09          0             0      1  \n",
       "2021-04-12          0             0      1  \n",
       "2021-04-13          0             0      1  "
      ]
     },
     "execution_count": 112,
     "metadata": {},
     "output_type": "execute_result"
    }
   ],
   "source": [
    "sp500_p.tail()"
   ]
  },
  {
   "cell_type": "code",
   "execution_count": 114,
   "metadata": {},
   "outputs": [],
   "source": [
    "for x in bear:\n",
    "    sp500_p.loc[sp500_p.index[x[0]:x[1]], 'class'] = 0"
   ]
  },
  {
   "cell_type": "code",
   "execution_count": 59,
   "metadata": {},
   "outputs": [],
   "source": [
    "bull_df = list(map(lambda x: sp500_p.iloc[x[0]:x[1]], bull))"
   ]
  },
  {
   "cell_type": "code",
   "execution_count": 60,
   "metadata": {},
   "outputs": [
    {
     "data": {
      "text/plain": [
       "Date\n",
       "2004-12-31    1211.920044\n",
       "2005-01-03    1202.079956\n",
       "2005-01-04    1188.050049\n",
       "2005-01-05    1183.739990\n",
       "2005-01-06    1187.890015\n",
       "                 ...     \n",
       "2020-02-11    3357.750000\n",
       "2020-02-12    3379.449951\n",
       "2020-02-13    3373.939941\n",
       "2020-02-14    3380.159912\n",
       "2020-02-18    3370.290039\n",
       "Name: Close, Length: 3261, dtype: float64"
      ]
     },
     "execution_count": 60,
     "metadata": {},
     "output_type": "execute_result"
    }
   ],
   "source": [
    "bull_df = pd.concat(bull_df)\n",
    "bull_df"
   ]
  },
  {
   "cell_type": "code",
   "execution_count": 115,
   "metadata": {},
   "outputs": [
    {
     "data": {
      "image/png": "[encoded data removed]",
      "text/plain": [
       "<Figure size 864x576 with 1 Axes>"
      ]
     },
     "metadata": {
      "needs_background": "light"
     },
     "output_type": "display_data"
    }
   ],
   "source": [
    "bear_df = sp500_p['Close'][sp500_p['class'] == 0]\n",
    "plt.figure(figsize=(12, 8))\n",
    "plt.plot(sp500_p['Close'], 'r')\n",
    "for x in bear:\n",
    "    plt.plot(sp500_p['Close'].iloc[x[0]:x[1]], 'g')\n"
   ]
  },
  {
   "cell_type": "code",
   "execution_count": 117,
   "metadata": {},
   "outputs": [
    {
     "data": {
      "text/html": [
       "<div>\n",
       "<style scoped>\n",
       "    .dataframe tbody tr th:only-of-type {\n",
       "        vertical-align: middle;\n",
       "    }\n",
       "\n",
       "    .dataframe tbody tr th {\n",
       "        vertical-align: top;\n",
       "    }\n",
       "\n",
       "    .dataframe thead th {\n",
       "        text-align: right;\n",
       "    }\n",
       "</style>\n",
       "<table border=\"1\" class=\"dataframe\">\n",
       "  <thead>\n",
       "    <tr style=\"text-align: right;\">\n",
       "      <th></th>\n",
       "      <th>Open</th>\n",
       "      <th>High</th>\n",
       "      <th>Low</th>\n",
       "      <th>Close</th>\n",
       "      <th>Volume</th>\n",
       "      <th>Dividends</th>\n",
       "      <th>Stock Splits</th>\n",
       "      <th>class</th>\n",
       "    </tr>\n",
       "    <tr>\n",
       "      <th>Date</th>\n",
       "      <th></th>\n",
       "      <th></th>\n",
       "      <th></th>\n",
       "      <th></th>\n",
       "      <th></th>\n",
       "      <th></th>\n",
       "      <th></th>\n",
       "      <th></th>\n",
       "    </tr>\n",
       "  </thead>\n",
       "  <tbody>\n",
       "    <tr>\n",
       "      <th>2004-12-31</th>\n",
       "      <td>1213.550049</td>\n",
       "      <td>1217.329956</td>\n",
       "      <td>1211.650024</td>\n",
       "      <td>1211.920044</td>\n",
       "      <td>786900000</td>\n",
       "      <td>0</td>\n",
       "      <td>0</td>\n",
       "      <td>1</td>\n",
       "    </tr>\n",
       "    <tr>\n",
       "      <th>2005-01-03</th>\n",
       "      <td>1211.920044</td>\n",
       "      <td>1217.800049</td>\n",
       "      <td>1200.319946</td>\n",
       "      <td>1202.079956</td>\n",
       "      <td>1510800000</td>\n",
       "      <td>0</td>\n",
       "      <td>0</td>\n",
       "      <td>1</td>\n",
       "    </tr>\n",
       "    <tr>\n",
       "      <th>2005-01-04</th>\n",
       "      <td>1202.079956</td>\n",
       "      <td>1205.839966</td>\n",
       "      <td>1185.390015</td>\n",
       "      <td>1188.050049</td>\n",
       "      <td>1721000000</td>\n",
       "      <td>0</td>\n",
       "      <td>0</td>\n",
       "      <td>1</td>\n",
       "    </tr>\n",
       "    <tr>\n",
       "      <th>2005-01-05</th>\n",
       "      <td>1188.050049</td>\n",
       "      <td>1192.729980</td>\n",
       "      <td>1183.719971</td>\n",
       "      <td>1183.739990</td>\n",
       "      <td>1738900000</td>\n",
       "      <td>0</td>\n",
       "      <td>0</td>\n",
       "      <td>1</td>\n",
       "    </tr>\n",
       "    <tr>\n",
       "      <th>2005-01-06</th>\n",
       "      <td>1183.739990</td>\n",
       "      <td>1191.630005</td>\n",
       "      <td>1183.270020</td>\n",
       "      <td>1187.890015</td>\n",
       "      <td>1569100000</td>\n",
       "      <td>0</td>\n",
       "      <td>0</td>\n",
       "      <td>1</td>\n",
       "    </tr>\n",
       "  </tbody>\n",
       "</table>\n",
       "</div>"
      ],
      "text/plain": [
       "                   Open         High          Low        Close      Volume  \\\n",
       "Date                                                                         \n",
       "2004-12-31  1213.550049  1217.329956  1211.650024  1211.920044   786900000   \n",
       "2005-01-03  1211.920044  1217.800049  1200.319946  1202.079956  1510800000   \n",
       "2005-01-04  1202.079956  1205.839966  1185.390015  1188.050049  1721000000   \n",
       "2005-01-05  1188.050049  1192.729980  1183.719971  1183.739990  1738900000   \n",
       "2005-01-06  1183.739990  1191.630005  1183.270020  1187.890015  1569100000   \n",
       "\n",
       "            Dividends  Stock Splits  class  \n",
       "Date                                        \n",
       "2004-12-31          0             0      1  \n",
       "2005-01-03          0             0      1  \n",
       "2005-01-04          0             0      1  \n",
       "2005-01-05          0             0      1  \n",
       "2005-01-06          0             0      1  "
      ]
     },
     "execution_count": 117,
     "metadata": {},
     "output_type": "execute_result"
    }
   ],
   "source": [
    "sp500_p.head()"
   ]
  },
  {
   "cell_type": "code",
   "execution_count": 118,
   "metadata": {},
   "outputs": [],
   "source": [
    "import ta"
   ]
  },
  {
   "cell_type": "code",
   "execution_count": 175,
   "metadata": {},
   "outputs": [],
   "source": [
    "df = sp500_p.copy()"
   ]
  },
  {
   "cell_type": "code",
   "execution_count": 176,
   "metadata": {},
   "outputs": [],
   "source": [
    "df.drop(columns=['Dividends', 'Stock Splits'], inplace=True)"
   ]
  },
  {
   "cell_type": "code",
   "execution_count": 177,
   "metadata": {},
   "outputs": [],
   "source": [
    "short_window = 14\n",
    "long_window = 28"
   ]
  },
  {
   "cell_type": "code",
   "execution_count": 178,
   "metadata": {},
   "outputs": [],
   "source": [
    "df['RSI_{}'.format(short_window)] = ta.momentum.RSIIndicator(close=df['Close'], window=short_window).rsi()\n",
    "df['RSI_{}'.format(long_window)] = ta.momentum.RSIIndicator(close=df['Close'], window=long_window).rsi()"
   ]
  },
  {
   "cell_type": "code",
   "execution_count": 179,
   "metadata": {},
   "outputs": [],
   "source": [
    "df['SMA_{}'.format(short_window)] = ta.trend.SMAIndicator(close=df['Close'], window=short_window).sma_indicator()\n",
    "df['SMA_{}'.format(long_window)] = ta.trend.SMAIndicator(close=df['Close'], window=long_window).sma_indicator()"
   ]
  },
  {
   "cell_type": "code",
   "execution_count": 180,
   "metadata": {},
   "outputs": [],
   "source": [
    "df['EMA_{}'.format(short_window)] = ta.trend.EMAIndicator(close=df['Close'], window=short_window).ema_indicator()\n",
    "df['EMA_{}'.format(long_window)] = ta.trend.EMAIndicator(close=df['Close'], window=long_window).ema_indicator()"
   ]
  },
  {
   "cell_type": "code",
   "execution_count": 181,
   "metadata": {},
   "outputs": [],
   "source": [
    "df['MACD'] = ta.trend.MACD(close=df['Close']).macd()\n",
    "df['MACD_DIFF'] = ta.trend.MACD(close=df['Close']).macd_diff()\n",
    "df['MACD_SIGNAL'] = ta.trend.MACD(close=df['Close']).macd_signal()"
   ]
  },
  {
   "cell_type": "code",
   "execution_count": 182,
   "metadata": {},
   "outputs": [],
   "source": [
    "df['KST'] = ta.trend.KSTIndicator(close=df['Close']).kst()\n",
    "df['KST_DIFF'] = ta.trend.KSTIndicator(close=df['Close']).kst_diff()\n",
    "df['KST_SIGNAL'] = ta.trend.KSTIndicator(close=df['Close']).kst_sig()"
   ]
  },
  {
   "cell_type": "code",
   "execution_count": 183,
   "metadata": {},
   "outputs": [],
   "source": [
    "df['STC'] = ta.trend.STCIndicator(close=df['Close']).stc()\n",
    "df['PSAR'] = ta.trend.PSARIndicator(high=df['High'], low=df['Low'], close=df['Close']).psar()\n",
    "df['DPO_{}'.format(short_window)] = ta.trend.DPOIndicator(close=df['Close'], window=short_window).dpo()\n",
    "df['DPO_{}'.format(long_window)] = ta.trend.DPOIndicator(close=df['Close'], window=long_window).dpo()"
   ]
  },
  {
   "cell_type": "code",
   "execution_count": 184,
   "metadata": {},
   "outputs": [],
   "source": [
    "df['CCI_{}'.format(short_window)] = ta.trend.CCIIndicator(high=df['High'], low=df['Low'], close=df['Close'], window = short_window).cci()\n",
    "df['CCI_{}'.format(long_window)] = ta.trend.CCIIndicator(high=df['High'], low=df['Low'], close=df['Close'], window = long_window).cci()"
   ]
  },
  {
   "cell_type": "code",
   "execution_count": 185,
   "metadata": {},
   "outputs": [],
   "source": [
    "df['MassIndex'] = ta.trend.MassIndex(high=df['High'], low=df['Low']).mass_index()"
   ]
  },
  {
   "cell_type": "code",
   "execution_count": 186,
   "metadata": {},
   "outputs": [],
   "source": [
    "df['TRIX_{}'.format(short_window)] = ta.trend.TRIXIndicator(close=df['Close'], window=short_window).trix()\n",
    "df['TRIX_{}'.format(long_window)] = ta.trend.TRIXIndicator(close=df['Close'], window=long_window).trix()"
   ]
  },
  {
   "cell_type": "code",
   "execution_count": 187,
   "metadata": {},
   "outputs": [],
   "source": [
    "df['VI_{}'.format(short_window)] = ta.trend.VortexIndicator(high=df['High'], low=df['Low'], close=df['Close'], window = short_window).vortex_indicator_diff()\n",
    "df['VI_{}'.format(long_window)] = ta.trend.VortexIndicator(high=df['High'], low=df['Low'], close=df['Close'], window = long_window).vortex_indicator_diff()"
   ]
  },
  {
   "cell_type": "code",
   "execution_count": 188,
   "metadata": {},
   "outputs": [
    {
     "name": "stderr",
     "output_type": "stream",
     "text": [
      "D:\\softwares\\anaconda\\lib\\site-packages\\ta\\trend.py:768: RuntimeWarning: invalid value encountered in double_scalars\n",
      "  dip[i] = 100 * (self._dip[i] / self._trs[i])\n",
      "D:\\softwares\\anaconda\\lib\\site-packages\\ta\\trend.py:772: RuntimeWarning: invalid value encountered in double_scalars\n",
      "  din[i] = 100 * (self._din[i] / self._trs[i])\n",
      "D:\\softwares\\anaconda\\lib\\site-packages\\ta\\trend.py:768: RuntimeWarning: invalid value encountered in double_scalars\n",
      "  dip[i] = 100 * (self._dip[i] / self._trs[i])\n",
      "D:\\softwares\\anaconda\\lib\\site-packages\\ta\\trend.py:772: RuntimeWarning: invalid value encountered in double_scalars\n",
      "  din[i] = 100 * (self._din[i] / self._trs[i])\n"
     ]
    }
   ],
   "source": [
    "df['ADX_{}'.format(short_window)]= ta.trend.ADXIndicator(high=df['High'], low=df['Low'], close=df['Close'], window = short_window).adx()\n",
    "df['ADX_{}'.format(long_window)]= ta.trend.ADXIndicator(high=df['High'], low=df['Low'], close=df['Close'], window = long_window).adx()"
   ]
  },
  {
   "cell_type": "code",
   "execution_count": 189,
   "metadata": {},
   "outputs": [],
   "source": [
    "df['MFI_{}'.format(short_window)] = ta.volume.MFIIndicator(high=df['High'], low=df['Low'], close=df['Close'], volume=df['Volume'], window = short_window).money_flow_index()\n",
    "df['MFI_{}'.format(long_window)] = ta.volume.MFIIndicator(high=df['High'], low=df['Low'], close=df['Close'], volume=df['Volume'], window = long_window).money_flow_index()"
   ]
  },
  {
   "cell_type": "code",
   "execution_count": 190,
   "metadata": {},
   "outputs": [],
   "source": [
    "df['ADI'] = ta.volume.AccDistIndexIndicator(high=df['High'], low=df['Low'], close=df['Close'], volume=df['Volume']).acc_dist_index()"
   ]
  },
  {
   "cell_type": "code",
   "execution_count": 191,
   "metadata": {},
   "outputs": [],
   "source": [
    "df['OBV'] = ta.volume.OnBalanceVolumeIndicator(close=df['Close'], volume=df['Volume']).on_balance_volume()"
   ]
  },
  {
   "cell_type": "code",
   "execution_count": 192,
   "metadata": {},
   "outputs": [],
   "source": [
    "df['CMF_{}'.format(short_window)] = ta.volume.ChaikinMoneyFlowIndicator(high=df['High'], low=df['Low'], close=df['Close'], volume=df['Volume'], window=short_window).chaikin_money_flow()\n",
    "df['CMF_{}'.format(long_window)] = ta.volume.ChaikinMoneyFlowIndicator(high=df['High'], low=df['Low'], close=df['Close'], volume=df['Volume'], window=long_window).chaikin_money_flow()"
   ]
  },
  {
   "cell_type": "code",
   "execution_count": 193,
   "metadata": {},
   "outputs": [],
   "source": [
    "df['FI_{}'.format(short_window)] = ta.volume.ForceIndexIndicator(close=df['Close'], volume=df['Volume'], window=short_window).force_index()\n",
    "df['FI_{}'.format(long_window)] = ta.volume.ForceIndexIndicator(close=df['Close'], volume=df['Volume'], window=long_window).force_index()"
   ]
  },
  {
   "cell_type": "code",
   "execution_count": 196,
   "metadata": {},
   "outputs": [],
   "source": [
    "df['EMV'] = ta.volume.EaseOfMovementIndicator(high=df['High'], low=df['Low'], volume=df['Volume'], window=short_window).ease_of_movement()\n",
    "df['EMV_SMA'] = ta.volume.EaseOfMovementIndicator(high=df['High'], low=df['Low'], volume=df['Volume'], window=short_window).sma_ease_of_movement()"
   ]
  },
  {
   "cell_type": "code",
   "execution_count": 198,
   "metadata": {},
   "outputs": [],
   "source": [
    "df['VPT'] = ta.volume.VolumePriceTrendIndicator(close=df['Close'], volume=df['Volume']).volume_price_trend()\n",
    "df['NVI'] = ta.volume.NegativeVolumeIndexIndicator(close=df['Close'], volume=df['Volume']).negative_volume_index()"
   ]
  },
  {
   "cell_type": "code",
   "execution_count": 199,
   "metadata": {},
   "outputs": [],
   "source": [
    "df['VWAP_{}'.format(short_window)] = ta.volume.VolumeWeightedAveragePrice(high=df['High'], low=df['Low'], close=df['Close'], volume=df['Volume'], window=short_window).volume_weighted_average_price()\n",
    "df['VWAP_{}'.format(long_window)] = ta.volume.VolumeWeightedAveragePrice(high=df['High'], low=df['Low'], close=df['Close'], volume=df['Volume'], window=long_window).volume_weighted_average_price()"
   ]
  },
  {
   "cell_type": "code",
   "execution_count": 200,
   "metadata": {},
   "outputs": [],
   "source": [
    "df['ATR_{}'.format(short_window)] = ta.volatility.AverageTrueRange(high=df['High'], low=df['Low'], close=df['Close'], window=short_window).average_true_range()\n",
    "df['ATR_{}'.format(long_window)] = ta.volatility.AverageTrueRange(high=df['High'], low=df['Low'], close=df['Close'], window=long_window).average_true_range()"
   ]
  },
  {
   "cell_type": "markdown",
   "metadata": {},
   "source": [
    "Volatility"
   ]
  },
  {
   "cell_type": "code",
   "execution_count": 204,
   "metadata": {},
   "outputs": [],
   "source": [
    "df['BB_HIGH'] = ta.volatility.BollingerBands(close=df['Close']).bollinger_hband()\n",
    "df['BB_LOW'] = ta.volatility.BollingerBands(close=df['Close']).bollinger_lband()\n",
    "df['BB_EMA'] = ta.volatility.BollingerBands(close=df['Close']).bollinger_mavg()"
   ]
  },
  {
   "cell_type": "code",
   "execution_count": 205,
   "metadata": {},
   "outputs": [],
   "source": [
    "df['KC_HIGH'] = ta.volatility.KeltnerChannel(high=df['High'], low=df['Low'], close=df['Close']).keltner_channel_hband()\n",
    "df['KC_LOW'] = ta.volatility.KeltnerChannel(high=df['High'], low=df['Low'], close=df['Close']).keltner_channel_lband()\n",
    "df['KC_EMA'] = ta.volatility.KeltnerChannel(high=df['High'], low=df['Low'], close=df['Close']).keltner_channel_mband()"
   ]
  },
  {
   "cell_type": "code",
   "execution_count": 207,
   "metadata": {},
   "outputs": [],
   "source": [
    "df['DC_HIGH'] = ta.volatility.DonchianChannel(high=df['High'], low=df['Low'], close=df['Close']).donchian_channel_hband()\n",
    "df['DC_LOW'] = ta.volatility.DonchianChannel(high=df['High'], low=df['Low'], close=df['Close']).donchian_channel_hband()\n",
    "df['DC_EMA'] = ta.volatility.DonchianChannel(high=df['High'], low=df['Low'], close=df['Close']).donchian_channel_hband()"
   ]
  },
  {
   "cell_type": "code",
   "execution_count": 208,
   "metadata": {},
   "outputs": [],
   "source": [
    "df['UI_{}'.format(short_window)] = ta.volatility.UlcerIndex(close=df['Close'], window=short_window).ulcer_index()\n",
    "df['UI_{}'.format(long_window)] = ta.volatility.UlcerIndex(close=df['Close'], window=long_window).ulcer_index()"
   ]
  },
  {
   "cell_type": "code",
   "execution_count": null,
   "metadata": {},
   "outputs": [],
   "source": []
  },
  {
   "cell_type": "code",
   "execution_count": 203,
   "metadata": {},
   "outputs": [
    {
     "data": {
      "text/plain": [
       "Date\n",
       "2004-12-31            NaN\n",
       "2005-01-03            NaN\n",
       "2005-01-04            NaN\n",
       "2005-01-05            NaN\n",
       "2005-01-06            NaN\n",
       "                 ...     \n",
       "2021-04-07    3964.716516\n",
       "2021-04-08    3974.634509\n",
       "2021-04-09    3984.107495\n",
       "2021-04-12    3993.340002\n",
       "2021-04-13    4001.972498\n",
       "Name: mavg, Length: 4098, dtype: float64"
      ]
     },
     "execution_count": 203,
     "metadata": {},
     "output_type": "execute_result"
    }
   ],
   "source": [
    "ta.volatility.BollingerBands(close=df['Close']).bollinger_mavg()"
   ]
  },
  {
   "cell_type": "code",
   "execution_count": 197,
   "metadata": {},
   "outputs": [
    {
     "data": {
      "text/html": [
       "<div>\n",
       "<style scoped>\n",
       "    .dataframe tbody tr th:only-of-type {\n",
       "        vertical-align: middle;\n",
       "    }\n",
       "\n",
       "    .dataframe tbody tr th {\n",
       "        vertical-align: top;\n",
       "    }\n",
       "\n",
       "    .dataframe thead th {\n",
       "        text-align: right;\n",
       "    }\n",
       "</style>\n",
       "<table border=\"1\" class=\"dataframe\">\n",
       "  <thead>\n",
       "    <tr style=\"text-align: right;\">\n",
       "      <th></th>\n",
       "      <th>Open</th>\n",
       "      <th>High</th>\n",
       "      <th>Low</th>\n",
       "      <th>Close</th>\n",
       "      <th>Volume</th>\n",
       "      <th>class</th>\n",
       "      <th>RSI_14</th>\n",
       "      <th>RSI_28</th>\n",
       "      <th>SMA_14</th>\n",
       "      <th>SMA_28</th>\n",
       "      <th>...</th>\n",
       "      <th>MFI_14</th>\n",
       "      <th>MFI_28</th>\n",
       "      <th>ADI</th>\n",
       "      <th>OBV</th>\n",
       "      <th>CMF_14</th>\n",
       "      <th>CMF_28</th>\n",
       "      <th>FI_14</th>\n",
       "      <th>FI_28</th>\n",
       "      <th>EMV</th>\n",
       "      <th>EMV_SMA</th>\n",
       "    </tr>\n",
       "    <tr>\n",
       "      <th>Date</th>\n",
       "      <th></th>\n",
       "      <th></th>\n",
       "      <th></th>\n",
       "      <th></th>\n",
       "      <th></th>\n",
       "      <th></th>\n",
       "      <th></th>\n",
       "      <th></th>\n",
       "      <th></th>\n",
       "      <th></th>\n",
       "      <th></th>\n",
       "      <th></th>\n",
       "      <th></th>\n",
       "      <th></th>\n",
       "      <th></th>\n",
       "      <th></th>\n",
       "      <th></th>\n",
       "      <th></th>\n",
       "      <th></th>\n",
       "      <th></th>\n",
       "      <th></th>\n",
       "    </tr>\n",
       "  </thead>\n",
       "  <tbody>\n",
       "    <tr>\n",
       "      <th>2021-04-07</th>\n",
       "      <td>4074.290039</td>\n",
       "      <td>4083.129883</td>\n",
       "      <td>4068.310059</td>\n",
       "      <td>4079.949951</td>\n",
       "      <td>4112640000</td>\n",
       "      <td>1</td>\n",
       "      <td>68.103940</td>\n",
       "      <td>62.581413</td>\n",
       "      <td>3971.933576</td>\n",
       "      <td>3928.732509</td>\n",
       "      <td>...</td>\n",
       "      <td>54.385084</td>\n",
       "      <td>55.428931</td>\n",
       "      <td>1.711078e+12</td>\n",
       "      <td>1263562470000</td>\n",
       "      <td>0.126482</td>\n",
       "      <td>0.035984</td>\n",
       "      <td>5.999946e+10</td>\n",
       "      <td>4.245471e+10</td>\n",
       "      <td>-0.527898</td>\n",
       "      <td>7.167601</td>\n",
       "    </tr>\n",
       "    <tr>\n",
       "      <th>2021-04-08</th>\n",
       "      <td>4089.949951</td>\n",
       "      <td>4098.189941</td>\n",
       "      <td>4082.540039</td>\n",
       "      <td>4097.169922</td>\n",
       "      <td>3901910000</td>\n",
       "      <td>1</td>\n",
       "      <td>69.595708</td>\n",
       "      <td>63.417933</td>\n",
       "      <td>3984.912859</td>\n",
       "      <td>3938.947510</td>\n",
       "      <td>...</td>\n",
       "      <td>60.519883</td>\n",
       "      <td>59.204718</td>\n",
       "      <td>1.714471e+12</td>\n",
       "      <td>1267464380000</td>\n",
       "      <td>0.230881</td>\n",
       "      <td>0.078984</td>\n",
       "      <td>6.095830e+10</td>\n",
       "      <td>4.416065e+10</td>\n",
       "      <td>5.873870</td>\n",
       "      <td>9.618166</td>\n",
       "    </tr>\n",
       "    <tr>\n",
       "      <th>2021-04-09</th>\n",
       "      <td>4096.109863</td>\n",
       "      <td>4129.479980</td>\n",
       "      <td>4095.510010</td>\n",
       "      <td>4128.799805</td>\n",
       "      <td>3634910000</td>\n",
       "      <td>1</td>\n",
       "      <td>72.170376</td>\n",
       "      <td>64.912122</td>\n",
       "      <td>4000.319981</td>\n",
       "      <td>3947.053929</td>\n",
       "      <td>...</td>\n",
       "      <td>70.416007</td>\n",
       "      <td>58.852450</td>\n",
       "      <td>1.717960e+12</td>\n",
       "      <td>1271099290000</td>\n",
       "      <td>0.276135</td>\n",
       "      <td>0.081261</td>\n",
       "      <td>6.816010e+10</td>\n",
       "      <td>4.904417e+10</td>\n",
       "      <td>20.681547</td>\n",
       "      <td>12.370851</td>\n",
       "    </tr>\n",
       "    <tr>\n",
       "      <th>2021-04-12</th>\n",
       "      <td>4124.709961</td>\n",
       "      <td>4131.759766</td>\n",
       "      <td>4114.819824</td>\n",
       "      <td>4127.990234</td>\n",
       "      <td>3578500000</td>\n",
       "      <td>1</td>\n",
       "      <td>72.002312</td>\n",
       "      <td>64.841824</td>\n",
       "      <td>4013.705706</td>\n",
       "      <td>3956.257507</td>\n",
       "      <td>...</td>\n",
       "      <td>70.145873</td>\n",
       "      <td>62.285524</td>\n",
       "      <td>1.719946e+12</td>\n",
       "      <td>1267520790000</td>\n",
       "      <td>0.292022</td>\n",
       "      <td>0.133080</td>\n",
       "      <td>5.868581e+10</td>\n",
       "      <td>4.546202e+10</td>\n",
       "      <td>5.110054</td>\n",
       "      <td>10.942850</td>\n",
       "    </tr>\n",
       "    <tr>\n",
       "      <th>2021-04-13</th>\n",
       "      <td>4130.100098</td>\n",
       "      <td>4148.000000</td>\n",
       "      <td>4124.430176</td>\n",
       "      <td>4141.589844</td>\n",
       "      <td>3728440000</td>\n",
       "      <td>1</td>\n",
       "      <td>73.134121</td>\n",
       "      <td>65.492842</td>\n",
       "      <td>4030.210693</td>\n",
       "      <td>3967.752860</td>\n",
       "      <td>...</td>\n",
       "      <td>77.404808</td>\n",
       "      <td>66.126165</td>\n",
       "      <td>1.721647e+12</td>\n",
       "      <td>1271249230000</td>\n",
       "      <td>0.373653</td>\n",
       "      <td>0.192093</td>\n",
       "      <td>5.762175e+10</td>\n",
       "      <td>4.582363e+10</td>\n",
       "      <td>8.170894</td>\n",
       "      <td>12.212809</td>\n",
       "    </tr>\n",
       "  </tbody>\n",
       "</table>\n",
       "<p>5 rows × 41 columns</p>\n",
       "</div>"
      ],
      "text/plain": [
       "                   Open         High          Low        Close      Volume  \\\n",
       "Date                                                                         \n",
       "2021-04-07  4074.290039  4083.129883  4068.310059  4079.949951  4112640000   \n",
       "2021-04-08  4089.949951  4098.189941  4082.540039  4097.169922  3901910000   \n",
       "2021-04-09  4096.109863  4129.479980  4095.510010  4128.799805  3634910000   \n",
       "2021-04-12  4124.709961  4131.759766  4114.819824  4127.990234  3578500000   \n",
       "2021-04-13  4130.100098  4148.000000  4124.430176  4141.589844  3728440000   \n",
       "\n",
       "            class     RSI_14     RSI_28       SMA_14       SMA_28  ...  \\\n",
       "Date                                                               ...   \n",
       "2021-04-07      1  68.103940  62.581413  3971.933576  3928.732509  ...   \n",
       "2021-04-08      1  69.595708  63.417933  3984.912859  3938.947510  ...   \n",
       "2021-04-09      1  72.170376  64.912122  4000.319981  3947.053929  ...   \n",
       "2021-04-12      1  72.002312  64.841824  4013.705706  3956.257507  ...   \n",
       "2021-04-13      1  73.134121  65.492842  4030.210693  3967.752860  ...   \n",
       "\n",
       "               MFI_14     MFI_28           ADI            OBV    CMF_14  \\\n",
       "Date                                                                      \n",
       "2021-04-07  54.385084  55.428931  1.711078e+12  1263562470000  0.126482   \n",
       "2021-04-08  60.519883  59.204718  1.714471e+12  1267464380000  0.230881   \n",
       "2021-04-09  70.416007  58.852450  1.717960e+12  1271099290000  0.276135   \n",
       "2021-04-12  70.145873  62.285524  1.719946e+12  1267520790000  0.292022   \n",
       "2021-04-13  77.404808  66.126165  1.721647e+12  1271249230000  0.373653   \n",
       "\n",
       "              CMF_28         FI_14         FI_28        EMV    EMV_SMA  \n",
       "Date                                                                    \n",
       "2021-04-07  0.035984  5.999946e+10  4.245471e+10  -0.527898   7.167601  \n",
       "2021-04-08  0.078984  6.095830e+10  4.416065e+10   5.873870   9.618166  \n",
       "2021-04-09  0.081261  6.816010e+10  4.904417e+10  20.681547  12.370851  \n",
       "2021-04-12  0.133080  5.868581e+10  4.546202e+10   5.110054  10.942850  \n",
       "2021-04-13  0.192093  5.762175e+10  4.582363e+10   8.170894  12.212809  \n",
       "\n",
       "[5 rows x 41 columns]"
      ]
     },
     "execution_count": 197,
     "metadata": {},
     "output_type": "execute_result"
    }
   ],
   "source": [
    "df.tail()"
   ]
  },
  {
   "cell_type": "code",
   "execution_count": 195,
   "metadata": {},
   "outputs": [
    {
     "data": {
      "text/plain": [
       "(4098, 39)"
      ]
     },
     "execution_count": 195,
     "metadata": {},
     "output_type": "execute_result"
    }
   ],
   "source": [
    "df.shape"
   ]
  }
 ],
 "metadata": {
  "kernelspec": {
   "display_name": "Python 3",
   "language": "python",
   "name": "python3"
  },
  "language_info": {
   "codemirror_mode": {
    "name": "ipython",
    "version": 3
   },
   "file_extension": ".py",
   "mimetype": "text/x-python",
   "name": "python",
   "nbconvert_exporter": "python",
   "pygments_lexer": "ipython3",
   "version": "3.8.5"
  }
 },
 "nbformat": 4,
 "nbformat_minor": 4
}
