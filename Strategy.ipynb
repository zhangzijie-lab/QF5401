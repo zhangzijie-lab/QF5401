{
 "cells": [
  {
   "cell_type": "code",
   "execution_count": 1,
   "metadata": {},
   "outputs": [],
   "source": [
    "import sys\n",
    "import os\n",
    "import pandas as pd\n",
    "import numpy as np\n",
    "import matplotlib.pyplot as plt\n",
    "import yfinance as yf\n",
    "from datetime import datetime\n",
    "from datetime import timedelta\n",
    "# import measures"
   ]
  },
  {
   "cell_type": "code",
   "execution_count": 2,
   "metadata": {},
   "outputs": [],
   "source": [
    "%matplotlib inline"
   ]
  },
  {
   "cell_type": "markdown",
   "metadata": {},
   "source": [
    "## Data Collection"
   ]
  },
  {
   "cell_type": "code",
   "execution_count": 3,
   "metadata": {},
   "outputs": [],
   "source": [
    "import bs4 as bs\n",
    "import pickle\n",
    "import requests\n",
    "\n",
    "def save_sp500_tickers():\n",
    "    resp = requests.get('http://en.wikipedia.org/wiki/List_of_S%26P_500_companies')\n",
    "    soup = bs.BeautifulSoup(resp.text, 'lxml')\n",
    "    table = soup.find('table', {'class': 'wikitable sortable'})\n",
    "    tickers = []\n",
    "    for row in table.findAll('tr')[1:]:\n",
    "        ticker = row.findAll('td')[0].text\n",
    "        tickers.append(ticker)\n",
    "\n",
    "    with open(\"sp500tickers.pickle\",\"wb\") as f:\n",
    "        pickle.dump(tickers,f)\n",
    "\n",
    "    return tickers"
   ]
  },
  {
   "cell_type": "code",
   "execution_count": 4,
   "metadata": {},
   "outputs": [],
   "source": [
    "tickers = save_sp500_tickers()"
   ]
  },
  {
   "cell_type": "code",
   "execution_count": 5,
   "metadata": {},
   "outputs": [],
   "source": [
    "tickers = list(map(lambda x: x.replace('\\n', ''), tickers))"
   ]
  },
  {
   "cell_type": "code",
   "execution_count": 6,
   "metadata": {},
   "outputs": [
    {
     "data": {
      "text/html": [
       "<div>\n",
       "<style scoped>\n",
       "    .dataframe tbody tr th:only-of-type {\n",
       "        vertical-align: middle;\n",
       "    }\n",
       "\n",
       "    .dataframe tbody tr th {\n",
       "        vertical-align: top;\n",
       "    }\n",
       "\n",
       "    .dataframe thead th {\n",
       "        text-align: right;\n",
       "    }\n",
       "</style>\n",
       "<table border=\"1\" class=\"dataframe\">\n",
       "  <thead>\n",
       "    <tr style=\"text-align: right;\">\n",
       "      <th></th>\n",
       "      <th>MMM</th>\n",
       "      <th>ABT</th>\n",
       "      <th>ABBV</th>\n",
       "      <th>ABMD</th>\n",
       "      <th>ACN</th>\n",
       "      <th>ATVI</th>\n",
       "      <th>ADBE</th>\n",
       "      <th>AMD</th>\n",
       "      <th>AAP</th>\n",
       "      <th>AES</th>\n",
       "      <th>...</th>\n",
       "      <th>WLTW</th>\n",
       "      <th>WYNN</th>\n",
       "      <th>XEL</th>\n",
       "      <th>XLNX</th>\n",
       "      <th>XYL</th>\n",
       "      <th>YUM</th>\n",
       "      <th>ZBRA</th>\n",
       "      <th>ZBH</th>\n",
       "      <th>ZION</th>\n",
       "      <th>ZTS</th>\n",
       "    </tr>\n",
       "    <tr>\n",
       "      <th>Date</th>\n",
       "      <th></th>\n",
       "      <th></th>\n",
       "      <th></th>\n",
       "      <th></th>\n",
       "      <th></th>\n",
       "      <th></th>\n",
       "      <th></th>\n",
       "      <th></th>\n",
       "      <th></th>\n",
       "      <th></th>\n",
       "      <th></th>\n",
       "      <th></th>\n",
       "      <th></th>\n",
       "      <th></th>\n",
       "      <th></th>\n",
       "      <th></th>\n",
       "      <th></th>\n",
       "      <th></th>\n",
       "      <th></th>\n",
       "      <th></th>\n",
       "      <th></th>\n",
       "    </tr>\n",
       "  </thead>\n",
       "  <tbody>\n",
       "    <tr>\n",
       "      <th>2003-12-31</th>\n",
       "      <td>54.158398</td>\n",
       "      <td>12.739085</td>\n",
       "      <td>NaN</td>\n",
       "      <td>6.99</td>\n",
       "      <td>19.636719</td>\n",
       "      <td>3.045087</td>\n",
       "      <td>19.508415</td>\n",
       "      <td>14.90</td>\n",
       "      <td>25.577316</td>\n",
       "      <td>7.280872</td>\n",
       "      <td>...</td>\n",
       "      <td>59.231983</td>\n",
       "      <td>15.456899</td>\n",
       "      <td>8.669735</td>\n",
       "      <td>27.330851</td>\n",
       "      <td>NaN</td>\n",
       "      <td>9.113444</td>\n",
       "      <td>44.246666</td>\n",
       "      <td>65.001007</td>\n",
       "      <td>47.138226</td>\n",
       "      <td>NaN</td>\n",
       "    </tr>\n",
       "    <tr>\n",
       "      <th>2004-01-02</th>\n",
       "      <td>53.101070</td>\n",
       "      <td>12.780089</td>\n",
       "      <td>NaN</td>\n",
       "      <td>7.00</td>\n",
       "      <td>19.338285</td>\n",
       "      <td>3.142075</td>\n",
       "      <td>19.518400</td>\n",
       "      <td>14.86</td>\n",
       "      <td>25.583614</td>\n",
       "      <td>7.311727</td>\n",
       "      <td>...</td>\n",
       "      <td>59.996933</td>\n",
       "      <td>15.650038</td>\n",
       "      <td>8.664631</td>\n",
       "      <td>27.245951</td>\n",
       "      <td>NaN</td>\n",
       "      <td>8.882961</td>\n",
       "      <td>43.586666</td>\n",
       "      <td>64.631683</td>\n",
       "      <td>46.262157</td>\n",
       "      <td>NaN</td>\n",
       "    </tr>\n",
       "    <tr>\n",
       "      <th>2004-01-05</th>\n",
       "      <td>54.113800</td>\n",
       "      <td>12.780089</td>\n",
       "      <td>NaN</td>\n",
       "      <td>6.91</td>\n",
       "      <td>19.890385</td>\n",
       "      <td>3.123681</td>\n",
       "      <td>19.867832</td>\n",
       "      <td>15.20</td>\n",
       "      <td>25.351082</td>\n",
       "      <td>7.458268</td>\n",
       "      <td>...</td>\n",
       "      <td>60.153389</td>\n",
       "      <td>15.837661</td>\n",
       "      <td>8.664631</td>\n",
       "      <td>28.123247</td>\n",
       "      <td>NaN</td>\n",
       "      <td>9.012777</td>\n",
       "      <td>43.666668</td>\n",
       "      <td>64.050018</td>\n",
       "      <td>46.162266</td>\n",
       "      <td>NaN</td>\n",
       "    </tr>\n",
       "    <tr>\n",
       "      <th>2004-01-06</th>\n",
       "      <td>53.948200</td>\n",
       "      <td>12.687147</td>\n",
       "      <td>NaN</td>\n",
       "      <td>6.99</td>\n",
       "      <td>19.659101</td>\n",
       "      <td>3.138731</td>\n",
       "      <td>19.887802</td>\n",
       "      <td>15.61</td>\n",
       "      <td>25.803566</td>\n",
       "      <td>7.504542</td>\n",
       "      <td>...</td>\n",
       "      <td>60.918354</td>\n",
       "      <td>15.600375</td>\n",
       "      <td>8.664631</td>\n",
       "      <td>27.946375</td>\n",
       "      <td>NaN</td>\n",
       "      <td>9.282997</td>\n",
       "      <td>43.766666</td>\n",
       "      <td>63.736057</td>\n",
       "      <td>46.800102</td>\n",
       "      <td>NaN</td>\n",
       "    </tr>\n",
       "    <tr>\n",
       "      <th>2004-01-07</th>\n",
       "      <td>53.018284</td>\n",
       "      <td>12.821095</td>\n",
       "      <td>NaN</td>\n",
       "      <td>7.16</td>\n",
       "      <td>19.211456</td>\n",
       "      <td>3.076859</td>\n",
       "      <td>19.694550</td>\n",
       "      <td>15.66</td>\n",
       "      <td>26.614231</td>\n",
       "      <td>7.751354</td>\n",
       "      <td>...</td>\n",
       "      <td>61.457306</td>\n",
       "      <td>15.738331</td>\n",
       "      <td>8.741216</td>\n",
       "      <td>27.670456</td>\n",
       "      <td>NaN</td>\n",
       "      <td>9.124045</td>\n",
       "      <td>44.500000</td>\n",
       "      <td>64.446991</td>\n",
       "      <td>46.477341</td>\n",
       "      <td>NaN</td>\n",
       "    </tr>\n",
       "  </tbody>\n",
       "</table>\n",
       "<p>5 rows × 503 columns</p>\n",
       "</div>"
      ],
      "text/plain": [
       "                  MMM        ABT  ABBV  ABMD        ACN      ATVI       ADBE  \\\n",
       "Date                                                                           \n",
       "2003-12-31  54.158398  12.739085   NaN  6.99  19.636719  3.045087  19.508415   \n",
       "2004-01-02  53.101070  12.780089   NaN  7.00  19.338285  3.142075  19.518400   \n",
       "2004-01-05  54.113800  12.780089   NaN  6.91  19.890385  3.123681  19.867832   \n",
       "2004-01-06  53.948200  12.687147   NaN  6.99  19.659101  3.138731  19.887802   \n",
       "2004-01-07  53.018284  12.821095   NaN  7.16  19.211456  3.076859  19.694550   \n",
       "\n",
       "              AMD        AAP       AES  ...       WLTW       WYNN       XEL  \\\n",
       "Date                                    ...                                   \n",
       "2003-12-31  14.90  25.577316  7.280872  ...  59.231983  15.456899  8.669735   \n",
       "2004-01-02  14.86  25.583614  7.311727  ...  59.996933  15.650038  8.664631   \n",
       "2004-01-05  15.20  25.351082  7.458268  ...  60.153389  15.837661  8.664631   \n",
       "2004-01-06  15.61  25.803566  7.504542  ...  60.918354  15.600375  8.664631   \n",
       "2004-01-07  15.66  26.614231  7.751354  ...  61.457306  15.738331  8.741216   \n",
       "\n",
       "                 XLNX  XYL       YUM       ZBRA        ZBH       ZION  ZTS  \n",
       "Date                                                                        \n",
       "2003-12-31  27.330851  NaN  9.113444  44.246666  65.001007  47.138226  NaN  \n",
       "2004-01-02  27.245951  NaN  8.882961  43.586666  64.631683  46.262157  NaN  \n",
       "2004-01-05  28.123247  NaN  9.012777  43.666668  64.050018  46.162266  NaN  \n",
       "2004-01-06  27.946375  NaN  9.282997  43.766666  63.736057  46.800102  NaN  \n",
       "2004-01-07  27.670456  NaN  9.124045  44.500000  64.446991  46.477341  NaN  \n",
       "\n",
       "[5 rows x 503 columns]"
      ]
     },
     "execution_count": 6,
     "metadata": {},
     "output_type": "execute_result"
    }
   ],
   "source": [
    "price_table = pd.read_csv('prices.csv', index_col=0)\n",
    "price_table.head()"
   ]
  },
  {
   "cell_type": "code",
   "execution_count": 5,
   "metadata": {},
   "outputs": [],
   "source": [
    "# start = datetime(2004, 1, 1)\n",
    "start = price_table.index[-1]\n",
    "end = datetime.today()"
   ]
  },
  {
   "cell_type": "code",
   "execution_count": 14,
   "metadata": {},
   "outputs": [
    {
     "data": {
      "text/html": [
       "<div>\n",
       "<style scoped>\n",
       "    .dataframe tbody tr th:only-of-type {\n",
       "        vertical-align: middle;\n",
       "    }\n",
       "\n",
       "    .dataframe tbody tr th {\n",
       "        vertical-align: top;\n",
       "    }\n",
       "\n",
       "    .dataframe thead th {\n",
       "        text-align: right;\n",
       "    }\n",
       "</style>\n",
       "<table border=\"1\" class=\"dataframe\">\n",
       "  <thead>\n",
       "    <tr style=\"text-align: right;\">\n",
       "      <th></th>\n",
       "      <th>MMM</th>\n",
       "      <th>ABT</th>\n",
       "      <th>ABBV</th>\n",
       "      <th>ABMD</th>\n",
       "      <th>ACN</th>\n",
       "      <th>ATVI</th>\n",
       "      <th>ADBE</th>\n",
       "      <th>AMD</th>\n",
       "      <th>AAP</th>\n",
       "      <th>AES</th>\n",
       "      <th>...</th>\n",
       "      <th>WLTW</th>\n",
       "      <th>WYNN</th>\n",
       "      <th>XEL</th>\n",
       "      <th>XLNX</th>\n",
       "      <th>XYL</th>\n",
       "      <th>YUM</th>\n",
       "      <th>ZBRA</th>\n",
       "      <th>ZBH</th>\n",
       "      <th>ZION</th>\n",
       "      <th>ZTS</th>\n",
       "    </tr>\n",
       "  </thead>\n",
       "  <tbody>\n",
       "  </tbody>\n",
       "</table>\n",
       "<p>0 rows × 503 columns</p>\n",
       "</div>"
      ],
      "text/plain": [
       "Empty DataFrame\n",
       "Columns: [MMM, ABT, ABBV, ABMD, ACN, ATVI, ADBE, AMD, AAP, AES, AFL, A, APD, AKAM, ALK, ALB, ARE, ALXN, ALGN, ALLE, LNT, ALL, GOOGL, GOOG, MO, AMZN, AMCR, AEE, AAL, AEP, AXP, AIG, AMT, AWK, AMP, ABC, AME, AMGN, APH, ADI, ANSS, ANTM, AON, AOS, APA, AAPL, AMAT, APTV, ADM, ANET, AJG, AIZ, T, ATO, ADSK, ADP, AZO, AVB, AVY, BKR, BLL, BAC, BK, BAX, BDX, BBY, BIO, BIIB, BLK, BA, BKNG, BWA, BXP, BSX, BMY, AVGO, BR, CHRW, COG, CDNS, CZR, CPB, COF, CAH, KMX, CCL, CARR, CTLT, CAT, CBOE, CBRE, CDW, CE, CNC, CNP, CERN, CF, SCHW, CHTR, CVX, ...]\n",
       "Index: []\n",
       "\n",
       "[0 rows x 503 columns]"
      ]
     },
     "execution_count": 14,
     "metadata": {},
     "output_type": "execute_result"
    }
   ],
   "source": [
    "tickers = price_table.columns\n",
    "price_table_latest = pd.DataFrame(columns=tickers)\n",
    "price_table_latest"
   ]
  },
  {
   "cell_type": "code",
   "execution_count": 15,
   "metadata": {},
   "outputs": [],
   "source": [
    "for ticker in tickers:\n",
    "    asset = yf.Ticker(ticker)\n",
    "    asset_p = asset.history(start=start, end=end)['Close']\n",
    "    price_table_latest[ticker] = asset_p"
   ]
  },
  {
   "cell_type": "code",
   "execution_count": 18,
   "metadata": {},
   "outputs": [],
   "source": [
    "# price_table.drop(columns=['BRK.B', 'BF.B'], inplace=True)"
   ]
  },
  {
   "cell_type": "code",
   "execution_count": 20,
   "metadata": {},
   "outputs": [],
   "source": [
    "# price_table.to_csv('prices.csv')"
   ]
  },
  {
   "cell_type": "code",
   "execution_count": 17,
   "metadata": {},
   "outputs": [],
   "source": [
    "price_table = price_table.append(price_table_latest)"
   ]
  },
  {
   "cell_type": "code",
   "execution_count": 7,
   "metadata": {},
   "outputs": [
    {
     "data": {
      "text/html": [
       "<div>\n",
       "<style scoped>\n",
       "    .dataframe tbody tr th:only-of-type {\n",
       "        vertical-align: middle;\n",
       "    }\n",
       "\n",
       "    .dataframe tbody tr th {\n",
       "        vertical-align: top;\n",
       "    }\n",
       "\n",
       "    .dataframe thead th {\n",
       "        text-align: right;\n",
       "    }\n",
       "</style>\n",
       "<table border=\"1\" class=\"dataframe\">\n",
       "  <thead>\n",
       "    <tr style=\"text-align: right;\">\n",
       "      <th></th>\n",
       "      <th>MMM</th>\n",
       "      <th>ABT</th>\n",
       "      <th>ABBV</th>\n",
       "      <th>ABMD</th>\n",
       "      <th>ACN</th>\n",
       "      <th>ATVI</th>\n",
       "      <th>ADBE</th>\n",
       "      <th>AMD</th>\n",
       "      <th>AAP</th>\n",
       "      <th>AES</th>\n",
       "      <th>...</th>\n",
       "      <th>WLTW</th>\n",
       "      <th>WYNN</th>\n",
       "      <th>XEL</th>\n",
       "      <th>XLNX</th>\n",
       "      <th>XYL</th>\n",
       "      <th>YUM</th>\n",
       "      <th>ZBRA</th>\n",
       "      <th>ZBH</th>\n",
       "      <th>ZION</th>\n",
       "      <th>ZTS</th>\n",
       "    </tr>\n",
       "    <tr>\n",
       "      <th>Date</th>\n",
       "      <th></th>\n",
       "      <th></th>\n",
       "      <th></th>\n",
       "      <th></th>\n",
       "      <th></th>\n",
       "      <th></th>\n",
       "      <th></th>\n",
       "      <th></th>\n",
       "      <th></th>\n",
       "      <th></th>\n",
       "      <th></th>\n",
       "      <th></th>\n",
       "      <th></th>\n",
       "      <th></th>\n",
       "      <th></th>\n",
       "      <th></th>\n",
       "      <th></th>\n",
       "      <th></th>\n",
       "      <th></th>\n",
       "      <th></th>\n",
       "      <th></th>\n",
       "    </tr>\n",
       "  </thead>\n",
       "  <tbody>\n",
       "    <tr>\n",
       "      <th>2021-04-21</th>\n",
       "      <td>200.880005</td>\n",
       "      <td>122.599998</td>\n",
       "      <td>110.800003</td>\n",
       "      <td>342.640015</td>\n",
       "      <td>290.720001</td>\n",
       "      <td>93.180000</td>\n",
       "      <td>512.340027</td>\n",
       "      <td>81.610001</td>\n",
       "      <td>199.869995</td>\n",
       "      <td>28.389999</td>\n",
       "      <td>...</td>\n",
       "      <td>235.740005</td>\n",
       "      <td>125.989998</td>\n",
       "      <td>71.320000</td>\n",
       "      <td>126.949997</td>\n",
       "      <td>109.480003</td>\n",
       "      <td>117.449997</td>\n",
       "      <td>491.369995</td>\n",
       "      <td>176.649994</td>\n",
       "      <td>53.650002</td>\n",
       "      <td>170.149994</td>\n",
       "    </tr>\n",
       "    <tr>\n",
       "      <th>2021-04-22</th>\n",
       "      <td>200.899994</td>\n",
       "      <td>123.500000</td>\n",
       "      <td>110.050003</td>\n",
       "      <td>343.399994</td>\n",
       "      <td>290.160004</td>\n",
       "      <td>93.699997</td>\n",
       "      <td>507.290009</td>\n",
       "      <td>79.059998</td>\n",
       "      <td>200.300003</td>\n",
       "      <td>28.320000</td>\n",
       "      <td>...</td>\n",
       "      <td>233.149994</td>\n",
       "      <td>124.379997</td>\n",
       "      <td>71.120003</td>\n",
       "      <td>123.080002</td>\n",
       "      <td>109.080002</td>\n",
       "      <td>117.820000</td>\n",
       "      <td>487.350006</td>\n",
       "      <td>177.380005</td>\n",
       "      <td>52.560001</td>\n",
       "      <td>169.070007</td>\n",
       "    </tr>\n",
       "    <tr>\n",
       "      <th>2021-04-23</th>\n",
       "      <td>202.199997</td>\n",
       "      <td>123.309998</td>\n",
       "      <td>111.379997</td>\n",
       "      <td>351.029999</td>\n",
       "      <td>291.739990</td>\n",
       "      <td>93.019997</td>\n",
       "      <td>515.840027</td>\n",
       "      <td>82.760002</td>\n",
       "      <td>199.750000</td>\n",
       "      <td>28.299999</td>\n",
       "      <td>...</td>\n",
       "      <td>232.889999</td>\n",
       "      <td>124.150002</td>\n",
       "      <td>71.080002</td>\n",
       "      <td>129.660004</td>\n",
       "      <td>110.480003</td>\n",
       "      <td>117.720001</td>\n",
       "      <td>497.410004</td>\n",
       "      <td>177.619995</td>\n",
       "      <td>54.270000</td>\n",
       "      <td>170.539993</td>\n",
       "    </tr>\n",
       "    <tr>\n",
       "      <th>2021-04-26</th>\n",
       "      <td>199.630005</td>\n",
       "      <td>122.580002</td>\n",
       "      <td>111.389999</td>\n",
       "      <td>348.200012</td>\n",
       "      <td>289.519989</td>\n",
       "      <td>94.239998</td>\n",
       "      <td>515.700012</td>\n",
       "      <td>85.410004</td>\n",
       "      <td>197.139999</td>\n",
       "      <td>28.209999</td>\n",
       "      <td>...</td>\n",
       "      <td>231.300003</td>\n",
       "      <td>125.000000</td>\n",
       "      <td>70.599998</td>\n",
       "      <td>133.960007</td>\n",
       "      <td>110.440002</td>\n",
       "      <td>115.680000</td>\n",
       "      <td>498.500000</td>\n",
       "      <td>175.720001</td>\n",
       "      <td>54.610001</td>\n",
       "      <td>169.800003</td>\n",
       "    </tr>\n",
       "    <tr>\n",
       "      <th>2021-04-27</th>\n",
       "      <td>194.449997</td>\n",
       "      <td>121.699997</td>\n",
       "      <td>111.440002</td>\n",
       "      <td>340.630005</td>\n",
       "      <td>290.250000</td>\n",
       "      <td>91.599998</td>\n",
       "      <td>517.320007</td>\n",
       "      <td>85.209999</td>\n",
       "      <td>197.279999</td>\n",
       "      <td>27.799999</td>\n",
       "      <td>...</td>\n",
       "      <td>236.250000</td>\n",
       "      <td>127.750000</td>\n",
       "      <td>70.000000</td>\n",
       "      <td>133.610001</td>\n",
       "      <td>111.360001</td>\n",
       "      <td>116.410004</td>\n",
       "      <td>501.750000</td>\n",
       "      <td>176.350006</td>\n",
       "      <td>55.150002</td>\n",
       "      <td>169.750000</td>\n",
       "    </tr>\n",
       "  </tbody>\n",
       "</table>\n",
       "<p>5 rows × 503 columns</p>\n",
       "</div>"
      ],
      "text/plain": [
       "                   MMM         ABT        ABBV        ABMD         ACN  \\\n",
       "Date                                                                     \n",
       "2021-04-21  200.880005  122.599998  110.800003  342.640015  290.720001   \n",
       "2021-04-22  200.899994  123.500000  110.050003  343.399994  290.160004   \n",
       "2021-04-23  202.199997  123.309998  111.379997  351.029999  291.739990   \n",
       "2021-04-26  199.630005  122.580002  111.389999  348.200012  289.519989   \n",
       "2021-04-27  194.449997  121.699997  111.440002  340.630005  290.250000   \n",
       "\n",
       "                 ATVI        ADBE        AMD         AAP        AES  ...  \\\n",
       "Date                                                                 ...   \n",
       "2021-04-21  93.180000  512.340027  81.610001  199.869995  28.389999  ...   \n",
       "2021-04-22  93.699997  507.290009  79.059998  200.300003  28.320000  ...   \n",
       "2021-04-23  93.019997  515.840027  82.760002  199.750000  28.299999  ...   \n",
       "2021-04-26  94.239998  515.700012  85.410004  197.139999  28.209999  ...   \n",
       "2021-04-27  91.599998  517.320007  85.209999  197.279999  27.799999  ...   \n",
       "\n",
       "                  WLTW        WYNN        XEL        XLNX         XYL  \\\n",
       "Date                                                                    \n",
       "2021-04-21  235.740005  125.989998  71.320000  126.949997  109.480003   \n",
       "2021-04-22  233.149994  124.379997  71.120003  123.080002  109.080002   \n",
       "2021-04-23  232.889999  124.150002  71.080002  129.660004  110.480003   \n",
       "2021-04-26  231.300003  125.000000  70.599998  133.960007  110.440002   \n",
       "2021-04-27  236.250000  127.750000  70.000000  133.610001  111.360001   \n",
       "\n",
       "                   YUM        ZBRA         ZBH       ZION         ZTS  \n",
       "Date                                                                   \n",
       "2021-04-21  117.449997  491.369995  176.649994  53.650002  170.149994  \n",
       "2021-04-22  117.820000  487.350006  177.380005  52.560001  169.070007  \n",
       "2021-04-23  117.720001  497.410004  177.619995  54.270000  170.539993  \n",
       "2021-04-26  115.680000  498.500000  175.720001  54.610001  169.800003  \n",
       "2021-04-27  116.410004  501.750000  176.350006  55.150002  169.750000  \n",
       "\n",
       "[5 rows x 503 columns]"
      ]
     },
     "execution_count": 7,
     "metadata": {},
     "output_type": "execute_result"
    }
   ],
   "source": [
    "price_table.tail()"
   ]
  },
  {
   "cell_type": "code",
   "execution_count": 8,
   "metadata": {},
   "outputs": [],
   "source": [
    "sp500 = yf.Ticker('^GSPC')"
   ]
  },
  {
   "cell_type": "code",
   "execution_count": 9,
   "metadata": {},
   "outputs": [],
   "source": [
    "start = price_table.index[0]\n",
    "end = price_table.index[-1]\n",
    "sp500_p = sp500.history(start=start, end=end)"
   ]
  },
  {
   "cell_type": "code",
   "execution_count": 10,
   "metadata": {},
   "outputs": [
    {
     "data": {
      "text/html": [
       "<div>\n",
       "<style scoped>\n",
       "    .dataframe tbody tr th:only-of-type {\n",
       "        vertical-align: middle;\n",
       "    }\n",
       "\n",
       "    .dataframe tbody tr th {\n",
       "        vertical-align: top;\n",
       "    }\n",
       "\n",
       "    .dataframe thead th {\n",
       "        text-align: right;\n",
       "    }\n",
       "</style>\n",
       "<table border=\"1\" class=\"dataframe\">\n",
       "  <thead>\n",
       "    <tr style=\"text-align: right;\">\n",
       "      <th></th>\n",
       "      <th>Open</th>\n",
       "      <th>High</th>\n",
       "      <th>Low</th>\n",
       "      <th>Close</th>\n",
       "      <th>Volume</th>\n",
       "      <th>Dividends</th>\n",
       "      <th>Stock Splits</th>\n",
       "    </tr>\n",
       "    <tr>\n",
       "      <th>Date</th>\n",
       "      <th></th>\n",
       "      <th></th>\n",
       "      <th></th>\n",
       "      <th></th>\n",
       "      <th></th>\n",
       "      <th></th>\n",
       "      <th></th>\n",
       "    </tr>\n",
       "  </thead>\n",
       "  <tbody>\n",
       "    <tr>\n",
       "      <th>2003-12-30</th>\n",
       "      <td>1109.479980</td>\n",
       "      <td>1109.750000</td>\n",
       "      <td>1106.410034</td>\n",
       "      <td>1109.640015</td>\n",
       "      <td>1012600000</td>\n",
       "      <td>0</td>\n",
       "      <td>0</td>\n",
       "    </tr>\n",
       "    <tr>\n",
       "      <th>2003-12-31</th>\n",
       "      <td>1109.640015</td>\n",
       "      <td>1112.560059</td>\n",
       "      <td>1106.209961</td>\n",
       "      <td>1111.920044</td>\n",
       "      <td>1027500000</td>\n",
       "      <td>0</td>\n",
       "      <td>0</td>\n",
       "    </tr>\n",
       "    <tr>\n",
       "      <th>2004-01-02</th>\n",
       "      <td>1111.920044</td>\n",
       "      <td>1118.849976</td>\n",
       "      <td>1105.079956</td>\n",
       "      <td>1108.479980</td>\n",
       "      <td>1153200000</td>\n",
       "      <td>0</td>\n",
       "      <td>0</td>\n",
       "    </tr>\n",
       "    <tr>\n",
       "      <th>2004-01-05</th>\n",
       "      <td>1108.479980</td>\n",
       "      <td>1122.219971</td>\n",
       "      <td>1108.479980</td>\n",
       "      <td>1122.219971</td>\n",
       "      <td>1578200000</td>\n",
       "      <td>0</td>\n",
       "      <td>0</td>\n",
       "    </tr>\n",
       "    <tr>\n",
       "      <th>2004-01-06</th>\n",
       "      <td>1122.219971</td>\n",
       "      <td>1124.459961</td>\n",
       "      <td>1118.439941</td>\n",
       "      <td>1123.670044</td>\n",
       "      <td>1494500000</td>\n",
       "      <td>0</td>\n",
       "      <td>0</td>\n",
       "    </tr>\n",
       "  </tbody>\n",
       "</table>\n",
       "</div>"
      ],
      "text/plain": [
       "                   Open         High          Low        Close      Volume  \\\n",
       "Date                                                                         \n",
       "2003-12-30  1109.479980  1109.750000  1106.410034  1109.640015  1012600000   \n",
       "2003-12-31  1109.640015  1112.560059  1106.209961  1111.920044  1027500000   \n",
       "2004-01-02  1111.920044  1118.849976  1105.079956  1108.479980  1153200000   \n",
       "2004-01-05  1108.479980  1122.219971  1108.479980  1122.219971  1578200000   \n",
       "2004-01-06  1122.219971  1124.459961  1118.439941  1123.670044  1494500000   \n",
       "\n",
       "            Dividends  Stock Splits  \n",
       "Date                                 \n",
       "2003-12-30          0             0  \n",
       "2003-12-31          0             0  \n",
       "2004-01-02          0             0  \n",
       "2004-01-05          0             0  \n",
       "2004-01-06          0             0  "
      ]
     },
     "execution_count": 10,
     "metadata": {},
     "output_type": "execute_result"
    }
   ],
   "source": [
    "sp500_p.head()"
   ]
  },
  {
   "cell_type": "code",
   "execution_count": 23,
   "metadata": {},
   "outputs": [],
   "source": [
    "sp500_p_cummax = sp500_p['Close'].cummax()\n",
    "sp500_p_cummin = sp500_p['Close'].cummin()"
   ]
  },
  {
   "cell_type": "code",
   "execution_count": 24,
   "metadata": {},
   "outputs": [
    {
     "data": {
      "image/png": "[encoded data removed]",
      "text/plain": [
       "<Figure size 864x576 with 1 Axes>"
      ]
     },
     "metadata": {
      "needs_background": "light"
     },
     "output_type": "display_data"
    }
   ],
   "source": [
    "plt.figure(figsize=(12, 8))\n",
    "plt.plot(sp500_p['Close'])\n",
    "plt.plot(sp500_p_cummax);"
   ]
  },
  {
   "cell_type": "markdown",
   "metadata": {},
   "source": [
    "## Momentum and Reversal effect detection"
   ]
  },
  {
   "cell_type": "markdown",
   "metadata": {},
   "source": [
    "#### Method 1"
   ]
  },
  {
   "cell_type": "code",
   "execution_count": 11,
   "metadata": {},
   "outputs": [],
   "source": [
    "threshold_bear = .15\n",
    "threshold_bull = .2"
   ]
  },
  {
   "cell_type": "code",
   "execution_count": 12,
   "metadata": {},
   "outputs": [],
   "source": [
    "t0 = 0\n",
    "period_max = sp500_p['Close'].iloc[t0]\n",
    "period_min = sp500_p['Close'].iloc[t0]\n",
    "bull = []\n",
    "bear = []\n",
    "indicator = True\n",
    "for i in range(sp500_p.shape[0]):\n",
    "    \n",
    "    cur = sp500_p['Close'].iloc[i]\n",
    "    \n",
    "    if indicator:\n",
    "        if cur > period_max:\n",
    "            period_max = cur\n",
    "            t_peak = i\n",
    "\n",
    "        if (period_max - cur)/period_max > threshold_bear:\n",
    "            bull.append((t0, t_peak))\n",
    "            t0 = t_peak\n",
    "    #         period_max = sp500_p.iloc[t_peak]\n",
    "            period_min = cur\n",
    "            indicator = False\n",
    "    else:\n",
    "        if cur < period_min:\n",
    "            period_min = cur\n",
    "            t_trough = i\n",
    "\n",
    "        if (cur - period_min)/period_min > threshold_bull:\n",
    "            bear.append((t0, t_trough))\n",
    "            t0 = t_trough\n",
    "            period_max = cur\n",
    "    #         period_min = sp500_p.iloc[t_trough]\n",
    "            indicator = True\n"
   ]
  },
  {
   "cell_type": "code",
   "execution_count": 13,
   "metadata": {},
   "outputs": [],
   "source": [
    "sp500_p['class'] = 1\n",
    "\n",
    "for x in bear:\n",
    "    sp500_p.loc[sp500_p.index[x[0]:x[1]], 'class'] = 0"
   ]
  },
  {
   "cell_type": "code",
   "execution_count": 14,
   "metadata": {},
   "outputs": [
    {
     "data": {
      "image/png": "[encoded data removed]",
      "text/plain": [
       "<Figure size 864x576 with 1 Axes>"
      ]
     },
     "metadata": {
      "needs_background": "light"
     },
     "output_type": "display_data"
    }
   ],
   "source": [
    "plt.figure(figsize=(12, 8))\n",
    "plt.plot(sp500_p['Close'], 'r')\n",
    "for x in bear:\n",
    "    plt.plot(sp500_p['Close'].iloc[x[0]:x[1]], 'g')\n",
    "    \n",
    "plt.xlabel('Date', fontsize=16)\n",
    "plt.ylabel('S&P500 Index', fontsize=16)\n",
    "plt.title('Market States', fontsize=22)\n",
    "plt.legend(['Bull', 'Bear'], fontsize=16)\n",
    "plt.savefig('BullBear.png')"
   ]
  },
  {
   "cell_type": "markdown",
   "metadata": {},
   "source": [
    "#### Method2"
   ]
  },
  {
   "cell_type": "code",
   "execution_count": 15,
   "metadata": {},
   "outputs": [],
   "source": [
    "import ta"
   ]
  },
  {
   "cell_type": "code",
   "execution_count": 16,
   "metadata": {},
   "outputs": [],
   "source": [
    "short_window = 25\n",
    "sp500_p['SMA_{}'.format(short_window)] = ta.trend.SMAIndicator(close=sp500_p['Close'], window=short_window).sma_indicator()"
   ]
  },
  {
   "cell_type": "code",
   "execution_count": 17,
   "metadata": {},
   "outputs": [],
   "source": [
    "sp500_p.dropna(inplace=True)"
   ]
  },
  {
   "cell_type": "code",
   "execution_count": 18,
   "metadata": {},
   "outputs": [],
   "source": [
    "sp500_p['SMA_{}_DIFF'.format(short_window)] = sp500_p['SMA_{}'.format(short_window)].pct_change()"
   ]
  },
  {
   "cell_type": "code",
   "execution_count": 19,
   "metadata": {},
   "outputs": [],
   "source": [
    "sp500_p['SMA_{}_DIFF'.format(short_window)].fillna(0, inplace=True)"
   ]
  },
  {
   "cell_type": "code",
   "execution_count": 20,
   "metadata": {},
   "outputs": [],
   "source": [
    "sp500_p['class2'] = 0\n",
    "\n",
    "for i in range(5, sp500_p.shape[0]):\n",
    "    idx = sp500_p.index[i]\n",
    "    \n",
    "    ma_past = sp500_p['SMA_{}_DIFF'.format(short_window)][(i-4):(i+1)]\n",
    "    close = sp500_p.loc[idx, 'Close']\n",
    "    ma = sp500_p.loc[idx, 'SMA_{}'.format(short_window)]\n",
    "    \n",
    "    if close > ma and sum(ma_past >= 0) == 5:\n",
    "        sp500_p.loc[idx, 'class2'] = 1\n",
    "    elif close < ma and sum(ma_past >= 0) == 0:\n",
    "        sp500_p.loc[idx, 'class2'] = -1\n",
    "        "
   ]
  },
  {
   "cell_type": "code",
   "execution_count": 21,
   "metadata": {},
   "outputs": [
    {
     "data": {
      "text/html": [
       "<div>\n",
       "<style scoped>\n",
       "    .dataframe tbody tr th:only-of-type {\n",
       "        vertical-align: middle;\n",
       "    }\n",
       "\n",
       "    .dataframe tbody tr th {\n",
       "        vertical-align: top;\n",
       "    }\n",
       "\n",
       "    .dataframe thead th {\n",
       "        text-align: right;\n",
       "    }\n",
       "</style>\n",
       "<table border=\"1\" class=\"dataframe\">\n",
       "  <thead>\n",
       "    <tr style=\"text-align: right;\">\n",
       "      <th></th>\n",
       "      <th>Open</th>\n",
       "      <th>High</th>\n",
       "      <th>Low</th>\n",
       "      <th>Close</th>\n",
       "      <th>Volume</th>\n",
       "      <th>Dividends</th>\n",
       "      <th>Stock Splits</th>\n",
       "      <th>class</th>\n",
       "      <th>SMA_25</th>\n",
       "      <th>SMA_25_DIFF</th>\n",
       "      <th>class2</th>\n",
       "    </tr>\n",
       "    <tr>\n",
       "      <th>Date</th>\n",
       "      <th></th>\n",
       "      <th></th>\n",
       "      <th></th>\n",
       "      <th></th>\n",
       "      <th></th>\n",
       "      <th></th>\n",
       "      <th></th>\n",
       "      <th></th>\n",
       "      <th></th>\n",
       "      <th></th>\n",
       "      <th></th>\n",
       "    </tr>\n",
       "  </thead>\n",
       "  <tbody>\n",
       "    <tr>\n",
       "      <th>2021-04-20</th>\n",
       "      <td>4159.180176</td>\n",
       "      <td>4159.180176</td>\n",
       "      <td>4118.379883</td>\n",
       "      <td>4134.939941</td>\n",
       "      <td>4338230000</td>\n",
       "      <td>0</td>\n",
       "      <td>0</td>\n",
       "      <td>1</td>\n",
       "      <td>4032.727998</td>\n",
       "      <td>0.001649</td>\n",
       "      <td>1</td>\n",
       "    </tr>\n",
       "    <tr>\n",
       "      <th>2021-04-21</th>\n",
       "      <td>4128.419922</td>\n",
       "      <td>4175.020020</td>\n",
       "      <td>4126.350098</td>\n",
       "      <td>4173.419922</td>\n",
       "      <td>3865820000</td>\n",
       "      <td>0</td>\n",
       "      <td>0</td>\n",
       "      <td>1</td>\n",
       "      <td>4041.156396</td>\n",
       "      <td>0.002090</td>\n",
       "      <td>1</td>\n",
       "    </tr>\n",
       "    <tr>\n",
       "      <th>2021-04-22</th>\n",
       "      <td>4170.459961</td>\n",
       "      <td>4179.569824</td>\n",
       "      <td>4123.689941</td>\n",
       "      <td>4134.979980</td>\n",
       "      <td>4235040000</td>\n",
       "      <td>0</td>\n",
       "      <td>0</td>\n",
       "      <td>1</td>\n",
       "      <td>4047.590791</td>\n",
       "      <td>0.001592</td>\n",
       "      <td>1</td>\n",
       "    </tr>\n",
       "    <tr>\n",
       "      <th>2021-04-23</th>\n",
       "      <td>4138.779785</td>\n",
       "      <td>4194.169922</td>\n",
       "      <td>4138.779785</td>\n",
       "      <td>4180.169922</td>\n",
       "      <td>3568080000</td>\n",
       "      <td>0</td>\n",
       "      <td>0</td>\n",
       "      <td>1</td>\n",
       "      <td>4058.179189</td>\n",
       "      <td>0.002616</td>\n",
       "      <td>1</td>\n",
       "    </tr>\n",
       "    <tr>\n",
       "      <th>2021-04-26</th>\n",
       "      <td>4185.029785</td>\n",
       "      <td>4194.189941</td>\n",
       "      <td>4182.359863</td>\n",
       "      <td>4187.620117</td>\n",
       "      <td>3738920000</td>\n",
       "      <td>0</td>\n",
       "      <td>0</td>\n",
       "      <td>1</td>\n",
       "      <td>4069.159990</td>\n",
       "      <td>0.002706</td>\n",
       "      <td>1</td>\n",
       "    </tr>\n",
       "  </tbody>\n",
       "</table>\n",
       "</div>"
      ],
      "text/plain": [
       "                   Open         High          Low        Close      Volume  \\\n",
       "Date                                                                         \n",
       "2021-04-20  4159.180176  4159.180176  4118.379883  4134.939941  4338230000   \n",
       "2021-04-21  4128.419922  4175.020020  4126.350098  4173.419922  3865820000   \n",
       "2021-04-22  4170.459961  4179.569824  4123.689941  4134.979980  4235040000   \n",
       "2021-04-23  4138.779785  4194.169922  4138.779785  4180.169922  3568080000   \n",
       "2021-04-26  4185.029785  4194.189941  4182.359863  4187.620117  3738920000   \n",
       "\n",
       "            Dividends  Stock Splits  class       SMA_25  SMA_25_DIFF  class2  \n",
       "Date                                                                          \n",
       "2021-04-20          0             0      1  4032.727998     0.001649       1  \n",
       "2021-04-21          0             0      1  4041.156396     0.002090       1  \n",
       "2021-04-22          0             0      1  4047.590791     0.001592       1  \n",
       "2021-04-23          0             0      1  4058.179189     0.002616       1  \n",
       "2021-04-26          0             0      1  4069.159990     0.002706       1  "
      ]
     },
     "execution_count": 21,
     "metadata": {},
     "output_type": "execute_result"
    }
   ],
   "source": [
    "sp500_p.tail()"
   ]
  },
  {
   "cell_type": "code",
   "execution_count": 22,
   "metadata": {},
   "outputs": [],
   "source": [
    "from itertools import groupby"
   ]
  },
  {
   "cell_type": "code",
   "execution_count": 23,
   "metadata": {},
   "outputs": [
    {
     "data": {
      "image/png": "[encoded data removed]",
      "text/plain": [
       "<Figure size 864x576 with 1 Axes>"
      ]
     },
     "metadata": {
      "needs_background": "light"
     },
     "output_type": "display_data"
    }
   ],
   "source": [
    "i = 0\n",
    "c = {0: 'blue', 1: 'red', -1: 'green'}\n",
    "l = []\n",
    "labels = []\n",
    "plt.figure(figsize=(12, 8))\n",
    "\n",
    "for k, g in groupby(sp500_p['class2']):\n",
    "    n = len(list(g))\n",
    "    line, = plt.plot(sp500_p.iloc[i:i+n, 3], color=c[k])\n",
    "    if k not in l:\n",
    "        labels.append(line)\n",
    "        l.append(k)\n",
    "    i += n\n",
    "    \n",
    "plt.xlabel('Date', fontsize=16)\n",
    "plt.ylabel('S&P500 Index', fontsize=16)\n",
    "plt.title('Market States', fontsize=22)\n",
    "plt.legend(labels, ['No Effect', 'Bull', 'Bear'], fontsize=16)\n",
    "plt.savefig('BullBear_v2.png');"
   ]
  },
  {
   "cell_type": "markdown",
   "metadata": {},
   "source": [
    "### Feature Engineering"
   ]
  },
  {
   "cell_type": "code",
   "execution_count": 23,
   "metadata": {},
   "outputs": [],
   "source": [
    "df = sp500_p.copy()"
   ]
  },
  {
   "cell_type": "code",
   "execution_count": 24,
   "metadata": {},
   "outputs": [],
   "source": [
    "df.drop(columns=['Dividends', 'Stock Splits'], inplace=True)"
   ]
  },
  {
   "cell_type": "code",
   "execution_count": 25,
   "metadata": {},
   "outputs": [],
   "source": [
    "short_window = 10\n",
    "long_window = 20"
   ]
  },
  {
   "cell_type": "markdown",
   "metadata": {},
   "source": [
    "#### Trend"
   ]
  },
  {
   "cell_type": "code",
   "execution_count": 26,
   "metadata": {},
   "outputs": [],
   "source": [
    "df['SMA_{}'.format(short_window)] = ta.trend.SMAIndicator(close=df['Close'], window=short_window).sma_indicator()\n",
    "df['SMA_{}'.format(long_window)] = ta.trend.SMAIndicator(close=df['Close'], window=long_window).sma_indicator()"
   ]
  },
  {
   "cell_type": "code",
   "execution_count": 27,
   "metadata": {},
   "outputs": [],
   "source": [
    "df['EMA_{}'.format(short_window)] = ta.trend.EMAIndicator(close=df['Close'], window=short_window).ema_indicator()\n",
    "df['EMA_{}'.format(long_window)] = ta.trend.EMAIndicator(close=df['Close'], window=long_window).ema_indicator()"
   ]
  },
  {
   "cell_type": "code",
   "execution_count": 28,
   "metadata": {},
   "outputs": [],
   "source": [
    "df['MACD'] = ta.trend.MACD(close=df['Close']).macd()\n",
    "df['MACD_DIFF'] = ta.trend.MACD(close=df['Close']).macd_diff()\n",
    "df['MACD_SIGNAL'] = ta.trend.MACD(close=df['Close']).macd_signal()"
   ]
  },
  {
   "cell_type": "code",
   "execution_count": 29,
   "metadata": {},
   "outputs": [],
   "source": [
    "df['KST'] = ta.trend.KSTIndicator(close=df['Close']).kst()\n",
    "df['KST_DIFF'] = ta.trend.KSTIndicator(close=df['Close']).kst_diff()\n",
    "df['KST_SIGNAL'] = ta.trend.KSTIndicator(close=df['Close']).kst_sig()"
   ]
  },
  {
   "cell_type": "code",
   "execution_count": 30,
   "metadata": {},
   "outputs": [],
   "source": [
    "df['STC'] = ta.trend.STCIndicator(close=df['Close']).stc()\n",
    "df['PSAR'] = ta.trend.PSARIndicator(high=df['High'], low=df['Low'], close=df['Close']).psar()\n",
    "df['DPO_{}'.format(short_window)] = ta.trend.DPOIndicator(close=df['Close'], window=short_window).dpo()\n",
    "df['DPO_{}'.format(long_window)] = ta.trend.DPOIndicator(close=df['Close'], window=long_window).dpo()"
   ]
  },
  {
   "cell_type": "code",
   "execution_count": 31,
   "metadata": {},
   "outputs": [],
   "source": [
    "df['CCI_{}'.format(short_window)] = ta.trend.CCIIndicator(high=df['High'], low=df['Low'], close=df['Close'], window = short_window).cci()\n",
    "df['CCI_{}'.format(long_window)] = ta.trend.CCIIndicator(high=df['High'], low=df['Low'], close=df['Close'], window = long_window).cci()"
   ]
  },
  {
   "cell_type": "code",
   "execution_count": 32,
   "metadata": {},
   "outputs": [],
   "source": [
    "df['MassIndex'] = ta.trend.MassIndex(high=df['High'], low=df['Low']).mass_index()"
   ]
  },
  {
   "cell_type": "code",
   "execution_count": 33,
   "metadata": {},
   "outputs": [],
   "source": [
    "df['TRIX_{}'.format(short_window)] = ta.trend.TRIXIndicator(close=df['Close'], window=short_window).trix()\n",
    "df['TRIX_{}'.format(long_window)] = ta.trend.TRIXIndicator(close=df['Close'], window=long_window).trix()"
   ]
  },
  {
   "cell_type": "code",
   "execution_count": 34,
   "metadata": {},
   "outputs": [],
   "source": [
    "df['VI_{}'.format(short_window)] = ta.trend.VortexIndicator(high=df['High'], low=df['Low'], close=df['Close'], window = short_window).vortex_indicator_diff()\n",
    "df['VI_{}'.format(long_window)] = ta.trend.VortexIndicator(high=df['High'], low=df['Low'], close=df['Close'], window = long_window).vortex_indicator_diff()"
   ]
  },
  {
   "cell_type": "code",
   "execution_count": 35,
   "metadata": {},
   "outputs": [
    {
     "name": "stderr",
     "output_type": "stream",
     "text": [
      "D:\\softwares\\anaconda\\lib\\site-packages\\ta\\trend.py:768: RuntimeWarning: invalid value encountered in double_scalars\n",
      "  dip[i] = 100 * (self._dip[i] / self._trs[i])\n",
      "D:\\softwares\\anaconda\\lib\\site-packages\\ta\\trend.py:772: RuntimeWarning: invalid value encountered in double_scalars\n",
      "  din[i] = 100 * (self._din[i] / self._trs[i])\n",
      "D:\\softwares\\anaconda\\lib\\site-packages\\ta\\trend.py:768: RuntimeWarning: invalid value encountered in double_scalars\n",
      "  dip[i] = 100 * (self._dip[i] / self._trs[i])\n",
      "D:\\softwares\\anaconda\\lib\\site-packages\\ta\\trend.py:772: RuntimeWarning: invalid value encountered in double_scalars\n",
      "  din[i] = 100 * (self._din[i] / self._trs[i])\n"
     ]
    }
   ],
   "source": [
    "df['ADX_{}'.format(short_window)]= ta.trend.ADXIndicator(high=df['High'], low=df['Low'], close=df['Close'], window = short_window).adx()\n",
    "df['ADX_{}'.format(long_window)]= ta.trend.ADXIndicator(high=df['High'], low=df['Low'], close=df['Close'], window = long_window).adx()"
   ]
  },
  {
   "cell_type": "markdown",
   "metadata": {},
   "source": [
    "#### Volume"
   ]
  },
  {
   "cell_type": "code",
   "execution_count": 36,
   "metadata": {},
   "outputs": [],
   "source": [
    "df['MFI_{}'.format(short_window)] = ta.volume.MFIIndicator(high=df['High'], low=df['Low'], close=df['Close'], volume=df['Volume'], window = short_window).money_flow_index()\n",
    "df['MFI_{}'.format(long_window)] = ta.volume.MFIIndicator(high=df['High'], low=df['Low'], close=df['Close'], volume=df['Volume'], window = long_window).money_flow_index()"
   ]
  },
  {
   "cell_type": "code",
   "execution_count": 37,
   "metadata": {},
   "outputs": [],
   "source": [
    "df['ADI'] = ta.volume.AccDistIndexIndicator(high=df['High'], low=df['Low'], close=df['Close'], volume=df['Volume']).acc_dist_index()"
   ]
  },
  {
   "cell_type": "code",
   "execution_count": 38,
   "metadata": {},
   "outputs": [],
   "source": [
    "df['OBV'] = ta.volume.OnBalanceVolumeIndicator(close=df['Close'], volume=df['Volume']).on_balance_volume()"
   ]
  },
  {
   "cell_type": "code",
   "execution_count": 39,
   "metadata": {},
   "outputs": [],
   "source": [
    "df['CMF_{}'.format(short_window)] = ta.volume.ChaikinMoneyFlowIndicator(high=df['High'], low=df['Low'], close=df['Close'], volume=df['Volume'], window=short_window).chaikin_money_flow()\n",
    "df['CMF_{}'.format(long_window)] = ta.volume.ChaikinMoneyFlowIndicator(high=df['High'], low=df['Low'], close=df['Close'], volume=df['Volume'], window=long_window).chaikin_money_flow()"
   ]
  },
  {
   "cell_type": "code",
   "execution_count": 40,
   "metadata": {},
   "outputs": [],
   "source": [
    "df['FI_{}'.format(short_window)] = ta.volume.ForceIndexIndicator(close=df['Close'], volume=df['Volume'], window=short_window).force_index()\n",
    "df['FI_{}'.format(long_window)] = ta.volume.ForceIndexIndicator(close=df['Close'], volume=df['Volume'], window=long_window).force_index()"
   ]
  },
  {
   "cell_type": "code",
   "execution_count": 41,
   "metadata": {},
   "outputs": [],
   "source": [
    "df['EMV'] = ta.volume.EaseOfMovementIndicator(high=df['High'], low=df['Low'], volume=df['Volume'], window=short_window).ease_of_movement()\n",
    "df['EMV_SMA'] = ta.volume.EaseOfMovementIndicator(high=df['High'], low=df['Low'], volume=df['Volume'], window=short_window).sma_ease_of_movement()"
   ]
  },
  {
   "cell_type": "code",
   "execution_count": 42,
   "metadata": {},
   "outputs": [],
   "source": [
    "df['VPT'] = ta.volume.VolumePriceTrendIndicator(close=df['Close'], volume=df['Volume']).volume_price_trend()\n",
    "df['NVI'] = ta.volume.NegativeVolumeIndexIndicator(close=df['Close'], volume=df['Volume']).negative_volume_index()"
   ]
  },
  {
   "cell_type": "code",
   "execution_count": 43,
   "metadata": {},
   "outputs": [],
   "source": [
    "df['VWAP_{}'.format(short_window)] = ta.volume.VolumeWeightedAveragePrice(high=df['High'], low=df['Low'], close=df['Close'], volume=df['Volume'], window=short_window).volume_weighted_average_price()\n",
    "df['VWAP_{}'.format(long_window)] = ta.volume.VolumeWeightedAveragePrice(high=df['High'], low=df['Low'], close=df['Close'], volume=df['Volume'], window=long_window).volume_weighted_average_price()"
   ]
  },
  {
   "cell_type": "markdown",
   "metadata": {},
   "source": [
    "#### Volatility"
   ]
  },
  {
   "cell_type": "code",
   "execution_count": 44,
   "metadata": {},
   "outputs": [],
   "source": [
    "df['ATR_{}'.format(short_window)] = ta.volatility.AverageTrueRange(high=df['High'], low=df['Low'], close=df['Close'], window=short_window).average_true_range()\n",
    "df['ATR_{}'.format(long_window)] = ta.volatility.AverageTrueRange(high=df['High'], low=df['Low'], close=df['Close'], window=long_window).average_true_range()"
   ]
  },
  {
   "cell_type": "code",
   "execution_count": 45,
   "metadata": {},
   "outputs": [],
   "source": [
    "df['BB_HIGH'] = ta.volatility.BollingerBands(close=df['Close']).bollinger_hband()\n",
    "df['BB_LOW'] = ta.volatility.BollingerBands(close=df['Close']).bollinger_lband()\n",
    "df['BB_EMA'] = ta.volatility.BollingerBands(close=df['Close']).bollinger_mavg()"
   ]
  },
  {
   "cell_type": "code",
   "execution_count": 46,
   "metadata": {},
   "outputs": [],
   "source": [
    "df['KC_HIGH'] = ta.volatility.KeltnerChannel(high=df['High'], low=df['Low'], close=df['Close']).keltner_channel_hband()\n",
    "df['KC_LOW'] = ta.volatility.KeltnerChannel(high=df['High'], low=df['Low'], close=df['Close']).keltner_channel_lband()\n",
    "df['KC_EMA'] = ta.volatility.KeltnerChannel(high=df['High'], low=df['Low'], close=df['Close']).keltner_channel_mband()"
   ]
  },
  {
   "cell_type": "code",
   "execution_count": 47,
   "metadata": {},
   "outputs": [],
   "source": [
    "df['DC_HIGH'] = ta.volatility.DonchianChannel(high=df['High'], low=df['Low'], close=df['Close']).donchian_channel_hband()\n",
    "df['DC_LOW'] = ta.volatility.DonchianChannel(high=df['High'], low=df['Low'], close=df['Close']).donchian_channel_hband()\n",
    "df['DC_EMA'] = ta.volatility.DonchianChannel(high=df['High'], low=df['Low'], close=df['Close']).donchian_channel_hband()"
   ]
  },
  {
   "cell_type": "code",
   "execution_count": 48,
   "metadata": {},
   "outputs": [],
   "source": [
    "df['UI_{}'.format(short_window)] = ta.volatility.UlcerIndex(close=df['Close'], window=short_window).ulcer_index()\n",
    "df['UI_{}'.format(long_window)] = ta.volatility.UlcerIndex(close=df['Close'], window=long_window).ulcer_index()"
   ]
  },
  {
   "cell_type": "markdown",
   "metadata": {},
   "source": [
    "#### Momentum"
   ]
  },
  {
   "cell_type": "code",
   "execution_count": 49,
   "metadata": {},
   "outputs": [],
   "source": [
    "df['RSI_{}'.format(short_window)] = ta.momentum.RSIIndicator(close=df['Close'], window=short_window).rsi()\n",
    "df['RSI_{}'.format(long_window)] = ta.momentum.RSIIndicator(close=df['Close'], window=long_window).rsi()"
   ]
  },
  {
   "cell_type": "code",
   "execution_count": 50,
   "metadata": {},
   "outputs": [],
   "source": [
    "df['SRSI'] = ta.momentum.StochRSIIndicator(close=df['Close']).stochrsi()"
   ]
  },
  {
   "cell_type": "code",
   "execution_count": 51,
   "metadata": {},
   "outputs": [],
   "source": [
    "df['TSI'] = ta.momentum.TSIIndicator(close=df['Close']).tsi()"
   ]
  },
  {
   "cell_type": "code",
   "execution_count": 52,
   "metadata": {},
   "outputs": [],
   "source": [
    "df['UO'] = ta.momentum.UltimateOscillator(high=df['High'], low=df['Low'], close=df['Close'], window1=5, window2=10, window3=20).ultimate_oscillator()"
   ]
  },
  {
   "cell_type": "code",
   "execution_count": 53,
   "metadata": {},
   "outputs": [],
   "source": [
    "df['SR'] = ta.momentum.StochasticOscillator(high=df['High'], low=df['Low'], close=df['Close'], window=short_window).stoch()"
   ]
  },
  {
   "cell_type": "code",
   "execution_count": 54,
   "metadata": {},
   "outputs": [],
   "source": [
    "df['WR'] = ta.momentum.WilliamsRIndicator(high=df['High'], low=df['Low'], close=df['Close']).williams_r()"
   ]
  },
  {
   "cell_type": "code",
   "execution_count": 55,
   "metadata": {},
   "outputs": [],
   "source": [
    "df['AO'] = ta.momentum.AwesomeOscillatorIndicator(high=df['High'], low=df['Low']).awesome_oscillator()"
   ]
  },
  {
   "cell_type": "code",
   "execution_count": 56,
   "metadata": {},
   "outputs": [],
   "source": [
    "df['KAMA'] = ta.momentum.KAMAIndicator(close=df['Close']).kama()"
   ]
  },
  {
   "cell_type": "code",
   "execution_count": 57,
   "metadata": {},
   "outputs": [],
   "source": [
    "df['ROC_{}'.format(short_window)] = ta.momentum.ROCIndicator(close=df['Close'], window=short_window).roc()\n",
    "df['ROC_{}'.format(long_window)] = ta.momentum.ROCIndicator(close=df['Close'], window=long_window).roc()"
   ]
  },
  {
   "cell_type": "code",
   "execution_count": 58,
   "metadata": {},
   "outputs": [],
   "source": [
    "df['PPO'] = ta.momentum.PercentagePriceOscillator(close=df['Close']).ppo()"
   ]
  },
  {
   "cell_type": "code",
   "execution_count": 59,
   "metadata": {},
   "outputs": [],
   "source": [
    "df['PVO'] = ta.momentum.PercentageVolumeOscillator(volume=df['Volume']).pvo()"
   ]
  },
  {
   "cell_type": "code",
   "execution_count": 66,
   "metadata": {},
   "outputs": [],
   "source": [
    "df.dropna(inplace=True)"
   ]
  },
  {
   "cell_type": "code",
   "execution_count": 61,
   "metadata": {},
   "outputs": [],
   "source": [
    "# df.drop(columns=['class'], inplace=True)\n",
    "df = pd.concat([df.iloc[:, 0:5], df.iloc[:, 9:]], axis=1)"
   ]
  },
  {
   "cell_type": "code",
   "execution_count": 67,
   "metadata": {},
   "outputs": [
    {
     "data": {
      "text/html": [
       "<div>\n",
       "<style scoped>\n",
       "    .dataframe tbody tr th:only-of-type {\n",
       "        vertical-align: middle;\n",
       "    }\n",
       "\n",
       "    .dataframe tbody tr th {\n",
       "        vertical-align: top;\n",
       "    }\n",
       "\n",
       "    .dataframe thead th {\n",
       "        text-align: right;\n",
       "    }\n",
       "</style>\n",
       "<table border=\"1\" class=\"dataframe\">\n",
       "  <thead>\n",
       "    <tr style=\"text-align: right;\">\n",
       "      <th></th>\n",
       "      <th>Open</th>\n",
       "      <th>High</th>\n",
       "      <th>Low</th>\n",
       "      <th>Close</th>\n",
       "      <th>Volume</th>\n",
       "      <th>SMA_10</th>\n",
       "      <th>SMA_20</th>\n",
       "      <th>EMA_10</th>\n",
       "      <th>EMA_20</th>\n",
       "      <th>MACD</th>\n",
       "      <th>...</th>\n",
       "      <th>TSI</th>\n",
       "      <th>UO</th>\n",
       "      <th>SR</th>\n",
       "      <th>WR</th>\n",
       "      <th>AO</th>\n",
       "      <th>KAMA</th>\n",
       "      <th>ROC_10</th>\n",
       "      <th>ROC_20</th>\n",
       "      <th>PPO</th>\n",
       "      <th>PVO</th>\n",
       "    </tr>\n",
       "    <tr>\n",
       "      <th>Date</th>\n",
       "      <th></th>\n",
       "      <th></th>\n",
       "      <th></th>\n",
       "      <th></th>\n",
       "      <th></th>\n",
       "      <th></th>\n",
       "      <th></th>\n",
       "      <th></th>\n",
       "      <th></th>\n",
       "      <th></th>\n",
       "      <th></th>\n",
       "      <th></th>\n",
       "      <th></th>\n",
       "      <th></th>\n",
       "      <th></th>\n",
       "      <th></th>\n",
       "      <th></th>\n",
       "      <th></th>\n",
       "      <th></th>\n",
       "      <th></th>\n",
       "      <th></th>\n",
       "    </tr>\n",
       "  </thead>\n",
       "  <tbody>\n",
       "    <tr>\n",
       "      <th>2021-04-26</th>\n",
       "      <td>4185.029785</td>\n",
       "      <td>4194.189941</td>\n",
       "      <td>4182.359863</td>\n",
       "      <td>4187.620117</td>\n",
       "      <td>3738920000</td>\n",
       "      <td>4159.652979</td>\n",
       "      <td>4105.234485</td>\n",
       "      <td>4151.182318</td>\n",
       "      <td>4106.395856</td>\n",
       "      <td>60.671775</td>\n",
       "      <td>...</td>\n",
       "      <td>33.465673</td>\n",
       "      <td>58.895984</td>\n",
       "      <td>91.333836</td>\n",
       "      <td>-5.219122</td>\n",
       "      <td>129.889681</td>\n",
       "      <td>4150.348101</td>\n",
       "      <td>1.444526</td>\n",
       "      <td>5.361125</td>\n",
       "      <td>1.486402</td>\n",
       "      <td>-6.545089</td>\n",
       "    </tr>\n",
       "    <tr>\n",
       "      <th>2021-04-27</th>\n",
       "      <td>4188.250000</td>\n",
       "      <td>4193.350098</td>\n",
       "      <td>4176.220215</td>\n",
       "      <td>4186.720215</td>\n",
       "      <td>3703240000</td>\n",
       "      <td>4164.166016</td>\n",
       "      <td>4116.015991</td>\n",
       "      <td>4157.643754</td>\n",
       "      <td>4114.045795</td>\n",
       "      <td>59.708339</td>\n",
       "      <td>...</td>\n",
       "      <td>33.258844</td>\n",
       "      <td>61.495073</td>\n",
       "      <td>90.146787</td>\n",
       "      <td>-6.690312</td>\n",
       "      <td>130.063054</td>\n",
       "      <td>4151.393691</td>\n",
       "      <td>1.089687</td>\n",
       "      <td>5.429998</td>\n",
       "      <td>1.460018</td>\n",
       "      <td>-6.607095</td>\n",
       "    </tr>\n",
       "    <tr>\n",
       "      <th>2021-04-28</th>\n",
       "      <td>4185.140137</td>\n",
       "      <td>4201.529785</td>\n",
       "      <td>4181.779785</td>\n",
       "      <td>4183.180176</td>\n",
       "      <td>3772390000</td>\n",
       "      <td>4170.018018</td>\n",
       "      <td>4127.247498</td>\n",
       "      <td>4162.286740</td>\n",
       "      <td>4120.630022</td>\n",
       "      <td>57.990678</td>\n",
       "      <td>...</td>\n",
       "      <td>32.886284</td>\n",
       "      <td>52.115081</td>\n",
       "      <td>77.931893</td>\n",
       "      <td>-17.307723</td>\n",
       "      <td>129.724212</td>\n",
       "      <td>4152.770814</td>\n",
       "      <td>1.418784</td>\n",
       "      <td>5.674556</td>\n",
       "      <td>1.415617</td>\n",
       "      <td>-6.449097</td>\n",
       "    </tr>\n",
       "    <tr>\n",
       "      <th>2021-04-29</th>\n",
       "      <td>4206.140137</td>\n",
       "      <td>4218.779785</td>\n",
       "      <td>4176.810059</td>\n",
       "      <td>4211.470215</td>\n",
       "      <td>4288940000</td>\n",
       "      <td>4174.123047</td>\n",
       "      <td>4139.176514</td>\n",
       "      <td>4171.229190</td>\n",
       "      <td>4129.281469</td>\n",
       "      <td>58.240824</td>\n",
       "      <td>...</td>\n",
       "      <td>33.416269</td>\n",
       "      <td>63.065647</td>\n",
       "      <td>92.719544</td>\n",
       "      <td>-7.031140</td>\n",
       "      <td>131.313400</td>\n",
       "      <td>4154.527466</td>\n",
       "      <td>0.984320</td>\n",
       "      <td>6.005209</td>\n",
       "      <td>1.418774</td>\n",
       "      <td>-5.212461</td>\n",
       "    </tr>\n",
       "    <tr>\n",
       "      <th>2021-04-30</th>\n",
       "      <td>4198.100098</td>\n",
       "      <td>4198.100098</td>\n",
       "      <td>4174.850098</td>\n",
       "      <td>4181.169922</td>\n",
       "      <td>4273680000</td>\n",
       "      <td>4173.693018</td>\n",
       "      <td>4147.241504</td>\n",
       "      <td>4173.036596</td>\n",
       "      <td>4134.223226</td>\n",
       "      <td>55.355978</td>\n",
       "      <td>...</td>\n",
       "      <td>32.055822</td>\n",
       "      <td>50.346333</td>\n",
       "      <td>62.539940</td>\n",
       "      <td>-37.460060</td>\n",
       "      <td>127.773004</td>\n",
       "      <td>4154.677997</td>\n",
       "      <td>-0.102743</td>\n",
       "      <td>4.012563</td>\n",
       "      <td>1.346647</td>\n",
       "      <td>-4.216956</td>\n",
       "    </tr>\n",
       "  </tbody>\n",
       "</table>\n",
       "<p>5 rows × 68 columns</p>\n",
       "</div>"
      ],
      "text/plain": [
       "                   Open         High          Low        Close      Volume  \\\n",
       "Date                                                                         \n",
       "2021-04-26  4185.029785  4194.189941  4182.359863  4187.620117  3738920000   \n",
       "2021-04-27  4188.250000  4193.350098  4176.220215  4186.720215  3703240000   \n",
       "2021-04-28  4185.140137  4201.529785  4181.779785  4183.180176  3772390000   \n",
       "2021-04-29  4206.140137  4218.779785  4176.810059  4211.470215  4288940000   \n",
       "2021-04-30  4198.100098  4198.100098  4174.850098  4181.169922  4273680000   \n",
       "\n",
       "                 SMA_10       SMA_20       EMA_10       EMA_20       MACD  \\\n",
       "Date                                                                        \n",
       "2021-04-26  4159.652979  4105.234485  4151.182318  4106.395856  60.671775   \n",
       "2021-04-27  4164.166016  4116.015991  4157.643754  4114.045795  59.708339   \n",
       "2021-04-28  4170.018018  4127.247498  4162.286740  4120.630022  57.990678   \n",
       "2021-04-29  4174.123047  4139.176514  4171.229190  4129.281469  58.240824   \n",
       "2021-04-30  4173.693018  4147.241504  4173.036596  4134.223226  55.355978   \n",
       "\n",
       "            ...        TSI         UO         SR         WR          AO  \\\n",
       "Date        ...                                                           \n",
       "2021-04-26  ...  33.465673  58.895984  91.333836  -5.219122  129.889681   \n",
       "2021-04-27  ...  33.258844  61.495073  90.146787  -6.690312  130.063054   \n",
       "2021-04-28  ...  32.886284  52.115081  77.931893 -17.307723  129.724212   \n",
       "2021-04-29  ...  33.416269  63.065647  92.719544  -7.031140  131.313400   \n",
       "2021-04-30  ...  32.055822  50.346333  62.539940 -37.460060  127.773004   \n",
       "\n",
       "                   KAMA    ROC_10    ROC_20       PPO       PVO  \n",
       "Date                                                             \n",
       "2021-04-26  4150.348101  1.444526  5.361125  1.486402 -6.545089  \n",
       "2021-04-27  4151.393691  1.089687  5.429998  1.460018 -6.607095  \n",
       "2021-04-28  4152.770814  1.418784  5.674556  1.415617 -6.449097  \n",
       "2021-04-29  4154.527466  0.984320  6.005209  1.418774 -5.212461  \n",
       "2021-04-30  4154.677997 -0.102743  4.012563  1.346647 -4.216956  \n",
       "\n",
       "[5 rows x 68 columns]"
      ]
     },
     "execution_count": 67,
     "metadata": {},
     "output_type": "execute_result"
    }
   ],
   "source": [
    "df.to_csv('features.csv')\n",
    "df.tail()"
   ]
  },
  {
   "cell_type": "code",
   "execution_count": 36,
   "metadata": {},
   "outputs": [
    {
     "data": {
      "text/html": [
       "<div>\n",
       "<style scoped>\n",
       "    .dataframe tbody tr th:only-of-type {\n",
       "        vertical-align: middle;\n",
       "    }\n",
       "\n",
       "    .dataframe tbody tr th {\n",
       "        vertical-align: top;\n",
       "    }\n",
       "\n",
       "    .dataframe thead th {\n",
       "        text-align: right;\n",
       "    }\n",
       "</style>\n",
       "<table border=\"1\" class=\"dataframe\">\n",
       "  <thead>\n",
       "    <tr style=\"text-align: right;\">\n",
       "      <th></th>\n",
       "      <th>Open</th>\n",
       "      <th>High</th>\n",
       "      <th>Low</th>\n",
       "      <th>Close</th>\n",
       "      <th>Volume</th>\n",
       "      <th>SMA_10</th>\n",
       "      <th>SMA_20</th>\n",
       "      <th>EMA_10</th>\n",
       "      <th>EMA_20</th>\n",
       "      <th>MACD</th>\n",
       "      <th>...</th>\n",
       "      <th>TSI</th>\n",
       "      <th>UO</th>\n",
       "      <th>SR</th>\n",
       "      <th>WR</th>\n",
       "      <th>AO</th>\n",
       "      <th>KAMA</th>\n",
       "      <th>ROC_10</th>\n",
       "      <th>ROC_20</th>\n",
       "      <th>PPO</th>\n",
       "      <th>PVO</th>\n",
       "    </tr>\n",
       "    <tr>\n",
       "      <th>Date</th>\n",
       "      <th></th>\n",
       "      <th></th>\n",
       "      <th></th>\n",
       "      <th></th>\n",
       "      <th></th>\n",
       "      <th></th>\n",
       "      <th></th>\n",
       "      <th></th>\n",
       "      <th></th>\n",
       "      <th></th>\n",
       "      <th></th>\n",
       "      <th></th>\n",
       "      <th></th>\n",
       "      <th></th>\n",
       "      <th></th>\n",
       "      <th></th>\n",
       "      <th></th>\n",
       "      <th></th>\n",
       "      <th></th>\n",
       "      <th></th>\n",
       "      <th></th>\n",
       "    </tr>\n",
       "  </thead>\n",
       "  <tbody>\n",
       "    <tr>\n",
       "      <th>2021-04-26</th>\n",
       "      <td>4185.029785</td>\n",
       "      <td>4194.189941</td>\n",
       "      <td>4182.359863</td>\n",
       "      <td>4187.620117</td>\n",
       "      <td>3738920000</td>\n",
       "      <td>4159.652979</td>\n",
       "      <td>4105.234485</td>\n",
       "      <td>4151.182318</td>\n",
       "      <td>4106.395856</td>\n",
       "      <td>60.671775</td>\n",
       "      <td>...</td>\n",
       "      <td>33.465673</td>\n",
       "      <td>58.895984</td>\n",
       "      <td>91.333836</td>\n",
       "      <td>-5.219122</td>\n",
       "      <td>129.889681</td>\n",
       "      <td>4150.348101</td>\n",
       "      <td>1.444526</td>\n",
       "      <td>5.361125</td>\n",
       "      <td>1.486402</td>\n",
       "      <td>-6.545089</td>\n",
       "    </tr>\n",
       "    <tr>\n",
       "      <th>2021-04-27</th>\n",
       "      <td>4188.250000</td>\n",
       "      <td>4193.350098</td>\n",
       "      <td>4176.220215</td>\n",
       "      <td>4186.720215</td>\n",
       "      <td>3703240000</td>\n",
       "      <td>4164.166016</td>\n",
       "      <td>4116.015991</td>\n",
       "      <td>4157.643754</td>\n",
       "      <td>4114.045795</td>\n",
       "      <td>59.708339</td>\n",
       "      <td>...</td>\n",
       "      <td>33.258844</td>\n",
       "      <td>61.495073</td>\n",
       "      <td>90.146787</td>\n",
       "      <td>-6.690312</td>\n",
       "      <td>130.063054</td>\n",
       "      <td>4151.393691</td>\n",
       "      <td>1.089687</td>\n",
       "      <td>5.429998</td>\n",
       "      <td>1.460018</td>\n",
       "      <td>-6.607095</td>\n",
       "    </tr>\n",
       "    <tr>\n",
       "      <th>2021-04-28</th>\n",
       "      <td>4185.140137</td>\n",
       "      <td>4201.529785</td>\n",
       "      <td>4181.779785</td>\n",
       "      <td>4183.180176</td>\n",
       "      <td>3772390000</td>\n",
       "      <td>4170.018018</td>\n",
       "      <td>4127.247498</td>\n",
       "      <td>4162.286740</td>\n",
       "      <td>4120.630022</td>\n",
       "      <td>57.990678</td>\n",
       "      <td>...</td>\n",
       "      <td>32.886284</td>\n",
       "      <td>52.115081</td>\n",
       "      <td>77.931893</td>\n",
       "      <td>-17.307723</td>\n",
       "      <td>129.724212</td>\n",
       "      <td>4152.770814</td>\n",
       "      <td>1.418784</td>\n",
       "      <td>5.674556</td>\n",
       "      <td>1.415617</td>\n",
       "      <td>-6.449097</td>\n",
       "    </tr>\n",
       "    <tr>\n",
       "      <th>2021-04-29</th>\n",
       "      <td>4206.140137</td>\n",
       "      <td>4218.779785</td>\n",
       "      <td>4176.810059</td>\n",
       "      <td>4211.470215</td>\n",
       "      <td>4288940000</td>\n",
       "      <td>4174.123047</td>\n",
       "      <td>4139.176514</td>\n",
       "      <td>4171.229190</td>\n",
       "      <td>4129.281469</td>\n",
       "      <td>58.240824</td>\n",
       "      <td>...</td>\n",
       "      <td>33.416269</td>\n",
       "      <td>63.065647</td>\n",
       "      <td>92.719544</td>\n",
       "      <td>-7.031140</td>\n",
       "      <td>131.313400</td>\n",
       "      <td>4154.527466</td>\n",
       "      <td>0.984320</td>\n",
       "      <td>6.005209</td>\n",
       "      <td>1.418774</td>\n",
       "      <td>-5.212461</td>\n",
       "    </tr>\n",
       "    <tr>\n",
       "      <th>2021-04-30</th>\n",
       "      <td>4198.100098</td>\n",
       "      <td>4198.100098</td>\n",
       "      <td>4174.850098</td>\n",
       "      <td>4181.169922</td>\n",
       "      <td>4273680000</td>\n",
       "      <td>4173.693018</td>\n",
       "      <td>4147.241504</td>\n",
       "      <td>4173.036596</td>\n",
       "      <td>4134.223226</td>\n",
       "      <td>55.355978</td>\n",
       "      <td>...</td>\n",
       "      <td>32.055822</td>\n",
       "      <td>50.346333</td>\n",
       "      <td>62.539940</td>\n",
       "      <td>-37.460060</td>\n",
       "      <td>127.773004</td>\n",
       "      <td>4154.677997</td>\n",
       "      <td>-0.102743</td>\n",
       "      <td>4.012563</td>\n",
       "      <td>1.346647</td>\n",
       "      <td>-4.216956</td>\n",
       "    </tr>\n",
       "  </tbody>\n",
       "</table>\n",
       "<p>5 rows × 68 columns</p>\n",
       "</div>"
      ],
      "text/plain": [
       "                   Open         High          Low        Close      Volume  \\\n",
       "Date                                                                         \n",
       "2021-04-26  4185.029785  4194.189941  4182.359863  4187.620117  3738920000   \n",
       "2021-04-27  4188.250000  4193.350098  4176.220215  4186.720215  3703240000   \n",
       "2021-04-28  4185.140137  4201.529785  4181.779785  4183.180176  3772390000   \n",
       "2021-04-29  4206.140137  4218.779785  4176.810059  4211.470215  4288940000   \n",
       "2021-04-30  4198.100098  4198.100098  4174.850098  4181.169922  4273680000   \n",
       "\n",
       "                 SMA_10       SMA_20       EMA_10       EMA_20       MACD  \\\n",
       "Date                                                                        \n",
       "2021-04-26  4159.652979  4105.234485  4151.182318  4106.395856  60.671775   \n",
       "2021-04-27  4164.166016  4116.015991  4157.643754  4114.045795  59.708339   \n",
       "2021-04-28  4170.018018  4127.247498  4162.286740  4120.630022  57.990678   \n",
       "2021-04-29  4174.123047  4139.176514  4171.229190  4129.281469  58.240824   \n",
       "2021-04-30  4173.693018  4147.241504  4173.036596  4134.223226  55.355978   \n",
       "\n",
       "            ...        TSI         UO         SR         WR          AO  \\\n",
       "Date        ...                                                           \n",
       "2021-04-26  ...  33.465673  58.895984  91.333836  -5.219122  129.889681   \n",
       "2021-04-27  ...  33.258844  61.495073  90.146787  -6.690312  130.063054   \n",
       "2021-04-28  ...  32.886284  52.115081  77.931893 -17.307723  129.724212   \n",
       "2021-04-29  ...  33.416269  63.065647  92.719544  -7.031140  131.313400   \n",
       "2021-04-30  ...  32.055822  50.346333  62.539940 -37.460060  127.773004   \n",
       "\n",
       "                   KAMA    ROC_10    ROC_20       PPO       PVO  \n",
       "Date                                                             \n",
       "2021-04-26  4150.348101  1.444526  5.361125  1.486402 -6.545089  \n",
       "2021-04-27  4151.393691  1.089687  5.429998  1.460018 -6.607095  \n",
       "2021-04-28  4152.770814  1.418784  5.674556  1.415617 -6.449097  \n",
       "2021-04-29  4154.527466  0.984320  6.005209  1.418774 -5.212461  \n",
       "2021-04-30  4154.677997 -0.102743  4.012563  1.346647 -4.216956  \n",
       "\n",
       "[5 rows x 68 columns]"
      ]
     },
     "execution_count": 36,
     "metadata": {},
     "output_type": "execute_result"
    }
   ],
   "source": [
    "df = pd.read_csv('features.csv', index_col=0)\n",
    "df.tail()"
   ]
  },
  {
   "cell_type": "code",
   "execution_count": 38,
   "metadata": {},
   "outputs": [
    {
     "data": {
      "text/html": [
       "<div>\n",
       "<style scoped>\n",
       "    .dataframe tbody tr th:only-of-type {\n",
       "        vertical-align: middle;\n",
       "    }\n",
       "\n",
       "    .dataframe tbody tr th {\n",
       "        vertical-align: top;\n",
       "    }\n",
       "\n",
       "    .dataframe thead th {\n",
       "        text-align: right;\n",
       "    }\n",
       "</style>\n",
       "<table border=\"1\" class=\"dataframe\">\n",
       "  <thead>\n",
       "    <tr style=\"text-align: right;\">\n",
       "      <th></th>\n",
       "      <th>Open</th>\n",
       "      <th>High</th>\n",
       "      <th>Low</th>\n",
       "      <th>Close</th>\n",
       "      <th>Volume</th>\n",
       "      <th>Dividends</th>\n",
       "      <th>Stock Splits</th>\n",
       "      <th>class</th>\n",
       "      <th>SMA_25</th>\n",
       "      <th>SMA_25_DIFF</th>\n",
       "      <th>class2</th>\n",
       "    </tr>\n",
       "    <tr>\n",
       "      <th>Date</th>\n",
       "      <th></th>\n",
       "      <th></th>\n",
       "      <th></th>\n",
       "      <th></th>\n",
       "      <th></th>\n",
       "      <th></th>\n",
       "      <th></th>\n",
       "      <th></th>\n",
       "      <th></th>\n",
       "      <th></th>\n",
       "      <th></th>\n",
       "    </tr>\n",
       "  </thead>\n",
       "  <tbody>\n",
       "    <tr>\n",
       "      <th>2004-02-04</th>\n",
       "      <td>1136.030029</td>\n",
       "      <td>1136.030029</td>\n",
       "      <td>1124.739990</td>\n",
       "      <td>1126.520020</td>\n",
       "      <td>1634800000</td>\n",
       "      <td>0</td>\n",
       "      <td>0</td>\n",
       "      <td>1</td>\n",
       "      <td>1130.788804</td>\n",
       "      <td>0.000000</td>\n",
       "      <td>0</td>\n",
       "    </tr>\n",
       "    <tr>\n",
       "      <th>2004-02-05</th>\n",
       "      <td>1126.520020</td>\n",
       "      <td>1131.170044</td>\n",
       "      <td>1124.439941</td>\n",
       "      <td>1128.589966</td>\n",
       "      <td>1566600000</td>\n",
       "      <td>0</td>\n",
       "      <td>0</td>\n",
       "      <td>1</td>\n",
       "      <td>1131.546802</td>\n",
       "      <td>0.000670</td>\n",
       "      <td>0</td>\n",
       "    </tr>\n",
       "    <tr>\n",
       "      <th>2004-02-06</th>\n",
       "      <td>1128.589966</td>\n",
       "      <td>1142.790039</td>\n",
       "      <td>1128.390015</td>\n",
       "      <td>1142.760010</td>\n",
       "      <td>1477600000</td>\n",
       "      <td>0</td>\n",
       "      <td>0</td>\n",
       "      <td>1</td>\n",
       "      <td>1132.780400</td>\n",
       "      <td>0.001090</td>\n",
       "      <td>0</td>\n",
       "    </tr>\n",
       "    <tr>\n",
       "      <th>2004-02-09</th>\n",
       "      <td>1142.760010</td>\n",
       "      <td>1144.459961</td>\n",
       "      <td>1139.209961</td>\n",
       "      <td>1139.810059</td>\n",
       "      <td>1303500000</td>\n",
       "      <td>0</td>\n",
       "      <td>0</td>\n",
       "      <td>1</td>\n",
       "      <td>1134.033604</td>\n",
       "      <td>0.001106</td>\n",
       "      <td>0</td>\n",
       "    </tr>\n",
       "    <tr>\n",
       "      <th>2004-02-10</th>\n",
       "      <td>1139.810059</td>\n",
       "      <td>1147.020020</td>\n",
       "      <td>1138.699951</td>\n",
       "      <td>1145.540039</td>\n",
       "      <td>1403900000</td>\n",
       "      <td>0</td>\n",
       "      <td>0</td>\n",
       "      <td>1</td>\n",
       "      <td>1134.966406</td>\n",
       "      <td>0.000823</td>\n",
       "      <td>0</td>\n",
       "    </tr>\n",
       "    <tr>\n",
       "      <th>...</th>\n",
       "      <td>...</td>\n",
       "      <td>...</td>\n",
       "      <td>...</td>\n",
       "      <td>...</td>\n",
       "      <td>...</td>\n",
       "      <td>...</td>\n",
       "      <td>...</td>\n",
       "      <td>...</td>\n",
       "      <td>...</td>\n",
       "      <td>...</td>\n",
       "      <td>...</td>\n",
       "    </tr>\n",
       "    <tr>\n",
       "      <th>2021-04-20</th>\n",
       "      <td>4159.180176</td>\n",
       "      <td>4159.180176</td>\n",
       "      <td>4118.379883</td>\n",
       "      <td>4134.939941</td>\n",
       "      <td>4338230000</td>\n",
       "      <td>0</td>\n",
       "      <td>0</td>\n",
       "      <td>1</td>\n",
       "      <td>4032.727998</td>\n",
       "      <td>0.001649</td>\n",
       "      <td>1</td>\n",
       "    </tr>\n",
       "    <tr>\n",
       "      <th>2021-04-21</th>\n",
       "      <td>4128.419922</td>\n",
       "      <td>4175.020020</td>\n",
       "      <td>4126.350098</td>\n",
       "      <td>4173.419922</td>\n",
       "      <td>3865820000</td>\n",
       "      <td>0</td>\n",
       "      <td>0</td>\n",
       "      <td>1</td>\n",
       "      <td>4041.156396</td>\n",
       "      <td>0.002090</td>\n",
       "      <td>1</td>\n",
       "    </tr>\n",
       "    <tr>\n",
       "      <th>2021-04-22</th>\n",
       "      <td>4170.459961</td>\n",
       "      <td>4179.569824</td>\n",
       "      <td>4123.689941</td>\n",
       "      <td>4134.979980</td>\n",
       "      <td>4235040000</td>\n",
       "      <td>0</td>\n",
       "      <td>0</td>\n",
       "      <td>1</td>\n",
       "      <td>4047.590791</td>\n",
       "      <td>0.001592</td>\n",
       "      <td>1</td>\n",
       "    </tr>\n",
       "    <tr>\n",
       "      <th>2021-04-23</th>\n",
       "      <td>4138.779785</td>\n",
       "      <td>4194.169922</td>\n",
       "      <td>4138.779785</td>\n",
       "      <td>4180.169922</td>\n",
       "      <td>3568080000</td>\n",
       "      <td>0</td>\n",
       "      <td>0</td>\n",
       "      <td>1</td>\n",
       "      <td>4058.179189</td>\n",
       "      <td>0.002616</td>\n",
       "      <td>1</td>\n",
       "    </tr>\n",
       "    <tr>\n",
       "      <th>2021-04-26</th>\n",
       "      <td>4185.029785</td>\n",
       "      <td>4194.189941</td>\n",
       "      <td>4182.359863</td>\n",
       "      <td>4187.620117</td>\n",
       "      <td>3738920000</td>\n",
       "      <td>0</td>\n",
       "      <td>0</td>\n",
       "      <td>1</td>\n",
       "      <td>4069.159990</td>\n",
       "      <td>0.002706</td>\n",
       "      <td>1</td>\n",
       "    </tr>\n",
       "  </tbody>\n",
       "</table>\n",
       "<p>4336 rows × 11 columns</p>\n",
       "</div>"
      ],
      "text/plain": [
       "                   Open         High          Low        Close      Volume  \\\n",
       "Date                                                                         \n",
       "2004-02-04  1136.030029  1136.030029  1124.739990  1126.520020  1634800000   \n",
       "2004-02-05  1126.520020  1131.170044  1124.439941  1128.589966  1566600000   \n",
       "2004-02-06  1128.589966  1142.790039  1128.390015  1142.760010  1477600000   \n",
       "2004-02-09  1142.760010  1144.459961  1139.209961  1139.810059  1303500000   \n",
       "2004-02-10  1139.810059  1147.020020  1138.699951  1145.540039  1403900000   \n",
       "...                 ...          ...          ...          ...         ...   \n",
       "2021-04-20  4159.180176  4159.180176  4118.379883  4134.939941  4338230000   \n",
       "2021-04-21  4128.419922  4175.020020  4126.350098  4173.419922  3865820000   \n",
       "2021-04-22  4170.459961  4179.569824  4123.689941  4134.979980  4235040000   \n",
       "2021-04-23  4138.779785  4194.169922  4138.779785  4180.169922  3568080000   \n",
       "2021-04-26  4185.029785  4194.189941  4182.359863  4187.620117  3738920000   \n",
       "\n",
       "            Dividends  Stock Splits  class       SMA_25  SMA_25_DIFF  class2  \n",
       "Date                                                                          \n",
       "2004-02-04          0             0      1  1130.788804     0.000000       0  \n",
       "2004-02-05          0             0      1  1131.546802     0.000670       0  \n",
       "2004-02-06          0             0      1  1132.780400     0.001090       0  \n",
       "2004-02-09          0             0      1  1134.033604     0.001106       0  \n",
       "2004-02-10          0             0      1  1134.966406     0.000823       0  \n",
       "...               ...           ...    ...          ...          ...     ...  \n",
       "2021-04-20          0             0      1  4032.727998     0.001649       1  \n",
       "2021-04-21          0             0      1  4041.156396     0.002090       1  \n",
       "2021-04-22          0             0      1  4047.590791     0.001592       1  \n",
       "2021-04-23          0             0      1  4058.179189     0.002616       1  \n",
       "2021-04-26          0             0      1  4069.159990     0.002706       1  \n",
       "\n",
       "[4336 rows x 11 columns]"
      ]
     },
     "execution_count": 38,
     "metadata": {},
     "output_type": "execute_result"
    }
   ],
   "source": [
    "sp500_p"
   ]
  },
  {
   "cell_type": "code",
   "execution_count": 26,
   "metadata": {},
   "outputs": [
    {
     "data": {
      "text/plain": [
       "(4268, 68)"
      ]
     },
     "execution_count": 26,
     "metadata": {},
     "output_type": "execute_result"
    }
   ],
   "source": [
    "df.shape"
   ]
  },
  {
   "cell_type": "code",
   "execution_count": 27,
   "metadata": {},
   "outputs": [],
   "source": [
    "import seaborn as sns; sns.set_theme()"
   ]
  },
  {
   "cell_type": "code",
   "execution_count": 28,
   "metadata": {},
   "outputs": [],
   "source": [
    "corr = df.iloc[:, 6:].corr()"
   ]
  },
  {
   "cell_type": "code",
   "execution_count": 29,
   "metadata": {},
   "outputs": [
    {
     "data": {
      "text/plain": [
       "(62, 62)"
      ]
     },
     "execution_count": 29,
     "metadata": {},
     "output_type": "execute_result"
    }
   ],
   "source": [
    "corr.shape"
   ]
  },
  {
   "cell_type": "code",
   "execution_count": 30,
   "metadata": {},
   "outputs": [
    {
     "data": {
      "image/png": "[encoded data removed]",
      "text/plain": [
       "<Figure size 720x576 with 2 Axes>"
      ]
     },
     "metadata": {},
     "output_type": "display_data"
    }
   ],
   "source": [
    "mask = np.zeros_like(corr)\n",
    "mask[np.triu_indices_from(mask)] = True\n",
    "with sns.axes_style(\"white\"):\n",
    "    f, ax = plt.subplots(figsize=(10, 8))\n",
    "    ax = sns.heatmap(corr, mask=mask, square=True, cmap=\"YlGnBu\")\n",
    "\n",
    "    plt.savefig('Correlation.png')"
   ]
  },
  {
   "cell_type": "markdown",
   "metadata": {},
   "source": [
    "## Feature Selection"
   ]
  },
  {
   "cell_type": "code",
   "execution_count": 31,
   "metadata": {},
   "outputs": [],
   "source": [
    "from sklearn.feature_selection import SelectKBest\n",
    "from sklearn.feature_selection import f_classif\n",
    "\n",
    "\n",
    "start = '2005-01-01'\n",
    "\n",
    "X = df[start:].dropna()\n",
    "y = sp500_p.loc[start:, 'class2']\n",
    "features = X.columns"
   ]
  },
  {
   "cell_type": "code",
   "execution_count": 32,
   "metadata": {},
   "outputs": [],
   "source": [
    "from sklearn.svm import SVC"
   ]
  },
  {
   "cell_type": "code",
   "execution_count": 33,
   "metadata": {},
   "outputs": [],
   "source": [
    "svm_model = SVC(probability=True)"
   ]
  },
  {
   "cell_type": "code",
   "execution_count": 69,
   "metadata": {},
   "outputs": [],
   "source": [
    "X_train = X['2005':'2015-12-31']\n",
    "X_test = X['2016-01-01':'2016-05-01']\n",
    "y_train = y['2005':'2015-12-31']\n",
    "y_test = y['2016-01-01':'2016-05-01']"
   ]
  },
  {
   "cell_type": "code",
   "execution_count": 50,
   "metadata": {},
   "outputs": [],
   "source": [
    "svm_model = svm_model.fit(X_train, y_train)"
   ]
  },
  {
   "cell_type": "code",
   "execution_count": 51,
   "metadata": {},
   "outputs": [],
   "source": [
    "from sklearn import metrics\n",
    "\n",
    "predicted = pd.DataFrame(svm_model.predict(X_test))\n",
    "probs = pd.DataFrame(svm_model.predict_proba(X_test))\n",
    "labs = ['Bear', 'No Effect', 'Bull']\n",
    "# Store metrics\n",
    "svm_accuracy = metrics.accuracy_score(y_test, predicted)\n",
    "# svm_roc_auc = metrics.roc_auc_score(y_test, probs[1])\n",
    "svm_confus_matrix = metrics.confusion_matrix(y_test, predicted)\n",
    "svm_classification_report = metrics.classification_report(y_test, predicted, target_names=labs, zero_division=0)"
   ]
  },
  {
   "cell_type": "code",
   "execution_count": 52,
   "metadata": {},
   "outputs": [
    {
     "data": {
      "text/plain": [
       "0.4268292682926829"
      ]
     },
     "execution_count": 52,
     "metadata": {},
     "output_type": "execute_result"
    }
   ],
   "source": [
    "svm_accuracy"
   ]
  },
  {
   "cell_type": "code",
   "execution_count": 53,
   "metadata": {},
   "outputs": [
    {
     "data": {
      "text/plain": [
       "array([[ 0, 26,  3],\n",
       "       [ 0,  1,  7],\n",
       "       [ 0, 11, 34]], dtype=int64)"
      ]
     },
     "execution_count": 53,
     "metadata": {},
     "output_type": "execute_result"
    }
   ],
   "source": [
    "svm_confus_matrix"
   ]
  },
  {
   "cell_type": "code",
   "execution_count": 54,
   "metadata": {},
   "outputs": [
    {
     "name": "stdout",
     "output_type": "stream",
     "text": [
      "              precision    recall  f1-score   support\n",
      "\n",
      "        Bear       0.00      0.00      0.00        29\n",
      "   No Effect       0.03      0.12      0.04         8\n",
      "        Bull       0.77      0.76      0.76        45\n",
      "\n",
      "    accuracy                           0.43        82\n",
      "   macro avg       0.27      0.29      0.27        82\n",
      "weighted avg       0.43      0.43      0.42        82\n",
      "\n"
     ]
    }
   ],
   "source": [
    "print(svm_classification_report)"
   ]
  },
  {
   "cell_type": "markdown",
   "metadata": {},
   "source": [
    "### Filter method"
   ]
  },
  {
   "cell_type": "code",
   "execution_count": 82,
   "metadata": {},
   "outputs": [],
   "source": [
    "# define feature selection\n",
    "fs = SelectKBest(score_func=f_classif, k=30)\n",
    "# apply feature selection\n",
    "X_train_selected = fs.fit_transform(X_train, y_train)\n",
    "X_test_selected = fs.transform(X_test)"
   ]
  },
  {
   "cell_type": "code",
   "execution_count": 83,
   "metadata": {},
   "outputs": [],
   "source": [
    "svm_model_filter = SVC(probability=True)\n",
    "svm_model_filter = svm_model_filter.fit(X_train_selected, y_train)"
   ]
  },
  {
   "cell_type": "code",
   "execution_count": 84,
   "metadata": {},
   "outputs": [],
   "source": [
    "predicted = pd.DataFrame(svm_model_filter.predict(X_test_selected))\n",
    "probs = pd.DataFrame(svm_model_filter.predict_proba(X_test_selected))\n",
    "\n",
    "# Store metrics\n",
    "svm_accuracy = metrics.accuracy_score(y_test, predicted)\n",
    "# svm_roc_auc = metrics.roc_auc_score(y_test, probs[1])\n",
    "svm_confus_matrix = metrics.confusion_matrix(y_test, predicted)\n",
    "svm_classification_report = metrics.classification_report(y_test, predicted, target_names=labs)"
   ]
  },
  {
   "cell_type": "code",
   "execution_count": 85,
   "metadata": {},
   "outputs": [
    {
     "data": {
      "text/plain": [
       "0.8658536585365854"
      ]
     },
     "execution_count": 85,
     "metadata": {},
     "output_type": "execute_result"
    }
   ],
   "source": [
    "svm_accuracy"
   ]
  },
  {
   "cell_type": "code",
   "execution_count": 86,
   "metadata": {},
   "outputs": [
    {
     "name": "stdout",
     "output_type": "stream",
     "text": [
      "              precision    recall  f1-score   support\n",
      "\n",
      "        Bear       1.00      0.86      0.93        29\n",
      "   No Effect       0.40      0.25      0.31         8\n",
      "        Bull       0.85      0.98      0.91        45\n",
      "\n",
      "    accuracy                           0.87        82\n",
      "   macro avg       0.75      0.70      0.71        82\n",
      "weighted avg       0.86      0.87      0.86        82\n",
      "\n"
     ]
    }
   ],
   "source": [
    "print(svm_classification_report)"
   ]
  },
  {
   "cell_type": "markdown",
   "metadata": {},
   "source": [
    "### Wrapper method"
   ]
  },
  {
   "cell_type": "code",
   "execution_count": 87,
   "metadata": {},
   "outputs": [],
   "source": [
    "from boruta import BorutaPy"
   ]
  },
  {
   "cell_type": "code",
   "execution_count": 88,
   "metadata": {},
   "outputs": [],
   "source": [
    "from sklearn.ensemble import RandomForestClassifier"
   ]
  },
  {
   "cell_type": "code",
   "execution_count": 158,
   "metadata": {},
   "outputs": [],
   "source": [
    "rf = RandomForestClassifier(n_jobs=-1, max_depth=5)"
   ]
  },
  {
   "cell_type": "code",
   "execution_count": 159,
   "metadata": {},
   "outputs": [
    {
     "data": {
      "text/plain": [
       "RandomForestClassifier(max_depth=5, n_jobs=-1)"
      ]
     },
     "execution_count": 159,
     "metadata": {},
     "output_type": "execute_result"
    }
   ],
   "source": [
    "rf.fit(X_train, y_train)"
   ]
  },
  {
   "cell_type": "code",
   "execution_count": 188,
   "metadata": {},
   "outputs": [],
   "source": [
    "predicted = pd.DataFrame(rf.predict(X_test))\n",
    "probs = pd.DataFrame(rf.predict_proba(X_test))\n",
    "\n",
    "# Store metrics\n",
    "rf_accuracy = metrics.accuracy_score(y_test, predicted)\n",
    "rf_confus_matrix = metrics.confusion_matrix(y_test, predicted)\n",
    "rf_classification_report = metrics.classification_report(y_test, predicted, target_names=labs)"
   ]
  },
  {
   "cell_type": "code",
   "execution_count": 189,
   "metadata": {},
   "outputs": [
    {
     "data": {
      "text/plain": [
       "0.9024390243902439"
      ]
     },
     "execution_count": 189,
     "metadata": {},
     "output_type": "execute_result"
    }
   ],
   "source": [
    "rf_accuracy"
   ]
  },
  {
   "cell_type": "code",
   "execution_count": 190,
   "metadata": {},
   "outputs": [
    {
     "name": "stdout",
     "output_type": "stream",
     "text": [
      "              precision    recall  f1-score   support\n",
      "\n",
      "        Bear       0.96      0.90      0.93        29\n",
      "   No Effect       0.50      0.88      0.64         8\n",
      "        Bull       1.00      0.91      0.95        45\n",
      "\n",
      "    accuracy                           0.90        82\n",
      "   macro avg       0.82      0.89      0.84        82\n",
      "weighted avg       0.94      0.90      0.91        82\n",
      "\n"
     ]
    }
   ],
   "source": [
    "print(rf_classification_report)"
   ]
  },
  {
   "cell_type": "markdown",
   "metadata": {},
   "source": [
    "#### Forward Feature Selection"
   ]
  },
  {
   "cell_type": "code",
   "execution_count": 197,
   "metadata": {
    "scrolled": true
   },
   "outputs": [
    {
     "name": "stdout",
     "output_type": "stream",
     "text": [
      "Iteration: \t1 / 100\n",
      "Confirmed: \t0\n",
      "Tentative: \t68\n",
      "Rejected: \t0\n",
      "Iteration: \t2 / 100\n",
      "Confirmed: \t0\n",
      "Tentative: \t68\n",
      "Rejected: \t0\n",
      "Iteration: \t3 / 100\n",
      "Confirmed: \t0\n",
      "Tentative: \t68\n",
      "Rejected: \t0\n",
      "Iteration: \t4 / 100\n",
      "Confirmed: \t0\n",
      "Tentative: \t68\n",
      "Rejected: \t0\n",
      "Iteration: \t5 / 100\n",
      "Confirmed: \t0\n",
      "Tentative: \t68\n",
      "Rejected: \t0\n",
      "Iteration: \t6 / 100\n",
      "Confirmed: \t0\n",
      "Tentative: \t68\n",
      "Rejected: \t0\n",
      "Iteration: \t7 / 100\n",
      "Confirmed: \t0\n",
      "Tentative: \t68\n",
      "Rejected: \t0\n",
      "Iteration: \t8 / 100\n",
      "Confirmed: \t51\n",
      "Tentative: \t17\n",
      "Rejected: \t0\n",
      "Iteration: \t9 / 100\n",
      "Confirmed: \t51\n",
      "Tentative: \t17\n",
      "Rejected: \t0\n",
      "Iteration: \t10 / 100\n",
      "Confirmed: \t51\n",
      "Tentative: \t17\n",
      "Rejected: \t0\n",
      "Iteration: \t11 / 100\n",
      "Confirmed: \t51\n",
      "Tentative: \t17\n",
      "Rejected: \t0\n",
      "Iteration: \t12 / 100\n",
      "Confirmed: \t53\n",
      "Tentative: \t15\n",
      "Rejected: \t0\n",
      "Iteration: \t13 / 100\n",
      "Confirmed: \t53\n",
      "Tentative: \t15\n",
      "Rejected: \t0\n",
      "Iteration: \t14 / 100\n",
      "Confirmed: \t53\n",
      "Tentative: \t15\n",
      "Rejected: \t0\n",
      "Iteration: \t15 / 100\n",
      "Confirmed: \t53\n",
      "Tentative: \t15\n",
      "Rejected: \t0\n",
      "Iteration: \t16 / 100\n",
      "Confirmed: \t54\n",
      "Tentative: \t14\n",
      "Rejected: \t0\n",
      "Iteration: \t17 / 100\n",
      "Confirmed: \t54\n",
      "Tentative: \t14\n",
      "Rejected: \t0\n",
      "Iteration: \t18 / 100\n",
      "Confirmed: \t54\n",
      "Tentative: \t14\n",
      "Rejected: \t0\n",
      "Iteration: \t19 / 100\n",
      "Confirmed: \t55\n",
      "Tentative: \t13\n",
      "Rejected: \t0\n",
      "Iteration: \t20 / 100\n",
      "Confirmed: \t55\n",
      "Tentative: \t13\n",
      "Rejected: \t0\n",
      "Iteration: \t21 / 100\n",
      "Confirmed: \t55\n",
      "Tentative: \t13\n",
      "Rejected: \t0\n",
      "Iteration: \t22 / 100\n",
      "Confirmed: \t55\n",
      "Tentative: \t13\n",
      "Rejected: \t0\n",
      "Iteration: \t23 / 100\n",
      "Confirmed: \t55\n",
      "Tentative: \t13\n",
      "Rejected: \t0\n",
      "Iteration: \t24 / 100\n",
      "Confirmed: \t55\n",
      "Tentative: \t13\n",
      "Rejected: \t0\n",
      "Iteration: \t25 / 100\n",
      "Confirmed: \t55\n",
      "Tentative: \t13\n",
      "Rejected: \t0\n",
      "Iteration: \t26 / 100\n",
      "Confirmed: \t56\n",
      "Tentative: \t12\n",
      "Rejected: \t0\n",
      "Iteration: \t27 / 100\n",
      "Confirmed: \t56\n",
      "Tentative: \t12\n",
      "Rejected: \t0\n",
      "Iteration: \t28 / 100\n",
      "Confirmed: \t56\n",
      "Tentative: \t12\n",
      "Rejected: \t0\n",
      "Iteration: \t29 / 100\n",
      "Confirmed: \t57\n",
      "Tentative: \t11\n",
      "Rejected: \t0\n",
      "Iteration: \t30 / 100\n",
      "Confirmed: \t57\n",
      "Tentative: \t11\n",
      "Rejected: \t0\n",
      "Iteration: \t31 / 100\n",
      "Confirmed: \t57\n",
      "Tentative: \t11\n",
      "Rejected: \t0\n",
      "Iteration: \t32 / 100\n",
      "Confirmed: \t59\n",
      "Tentative: \t9\n",
      "Rejected: \t0\n",
      "Iteration: \t33 / 100\n",
      "Confirmed: \t59\n",
      "Tentative: \t9\n",
      "Rejected: \t0\n",
      "Iteration: \t34 / 100\n",
      "Confirmed: \t60\n",
      "Tentative: \t8\n",
      "Rejected: \t0\n",
      "Iteration: \t35 / 100\n",
      "Confirmed: \t60\n",
      "Tentative: \t8\n",
      "Rejected: \t0\n",
      "Iteration: \t36 / 100\n",
      "Confirmed: \t60\n",
      "Tentative: \t8\n",
      "Rejected: \t0\n",
      "Iteration: \t37 / 100\n",
      "Confirmed: \t60\n",
      "Tentative: \t8\n",
      "Rejected: \t0\n",
      "Iteration: \t38 / 100\n",
      "Confirmed: \t60\n",
      "Tentative: \t8\n",
      "Rejected: \t0\n",
      "Iteration: \t39 / 100\n",
      "Confirmed: \t60\n",
      "Tentative: \t8\n",
      "Rejected: \t0\n",
      "Iteration: \t40 / 100\n",
      "Confirmed: \t60\n",
      "Tentative: \t8\n",
      "Rejected: \t0\n",
      "Iteration: \t41 / 100\n",
      "Confirmed: \t60\n",
      "Tentative: \t8\n",
      "Rejected: \t0\n",
      "Iteration: \t42 / 100\n",
      "Confirmed: \t60\n",
      "Tentative: \t8\n",
      "Rejected: \t0\n",
      "Iteration: \t43 / 100\n",
      "Confirmed: \t61\n",
      "Tentative: \t7\n",
      "Rejected: \t0\n",
      "Iteration: \t44 / 100\n",
      "Confirmed: \t61\n",
      "Tentative: \t7\n",
      "Rejected: \t0\n",
      "Iteration: \t45 / 100\n",
      "Confirmed: \t61\n",
      "Tentative: \t7\n",
      "Rejected: \t0\n",
      "Iteration: \t46 / 100\n",
      "Confirmed: \t61\n",
      "Tentative: \t7\n",
      "Rejected: \t0\n",
      "Iteration: \t47 / 100\n",
      "Confirmed: \t61\n",
      "Tentative: \t7\n",
      "Rejected: \t0\n",
      "Iteration: \t48 / 100\n",
      "Confirmed: \t61\n",
      "Tentative: \t7\n",
      "Rejected: \t0\n",
      "Iteration: \t49 / 100\n",
      "Confirmed: \t61\n",
      "Tentative: \t7\n",
      "Rejected: \t0\n",
      "Iteration: \t50 / 100\n",
      "Confirmed: \t61\n",
      "Tentative: \t7\n",
      "Rejected: \t0\n",
      "Iteration: \t51 / 100\n",
      "Confirmed: \t62\n",
      "Tentative: \t6\n",
      "Rejected: \t0\n",
      "Iteration: \t52 / 100\n",
      "Confirmed: \t62\n",
      "Tentative: \t6\n",
      "Rejected: \t0\n",
      "Iteration: \t53 / 100\n",
      "Confirmed: \t62\n",
      "Tentative: \t6\n",
      "Rejected: \t0\n",
      "Iteration: \t54 / 100\n",
      "Confirmed: \t63\n",
      "Tentative: \t5\n",
      "Rejected: \t0\n",
      "Iteration: \t55 / 100\n",
      "Confirmed: \t63\n",
      "Tentative: \t5\n",
      "Rejected: \t0\n",
      "Iteration: \t56 / 100\n",
      "Confirmed: \t63\n",
      "Tentative: \t5\n",
      "Rejected: \t0\n",
      "Iteration: \t57 / 100\n",
      "Confirmed: \t63\n",
      "Tentative: \t5\n",
      "Rejected: \t0\n",
      "Iteration: \t58 / 100\n",
      "Confirmed: \t63\n",
      "Tentative: \t5\n",
      "Rejected: \t0\n",
      "Iteration: \t59 / 100\n",
      "Confirmed: \t63\n",
      "Tentative: \t5\n",
      "Rejected: \t0\n",
      "Iteration: \t60 / 100\n",
      "Confirmed: \t63\n",
      "Tentative: \t5\n",
      "Rejected: \t0\n",
      "Iteration: \t61 / 100\n",
      "Confirmed: \t63\n",
      "Tentative: \t5\n",
      "Rejected: \t0\n",
      "Iteration: \t62 / 100\n",
      "Confirmed: \t63\n",
      "Tentative: \t5\n",
      "Rejected: \t0\n",
      "Iteration: \t63 / 100\n",
      "Confirmed: \t63\n",
      "Tentative: \t5\n",
      "Rejected: \t0\n",
      "Iteration: \t64 / 100\n",
      "Confirmed: \t63\n",
      "Tentative: \t5\n",
      "Rejected: \t0\n",
      "Iteration: \t65 / 100\n",
      "Confirmed: \t63\n",
      "Tentative: \t5\n",
      "Rejected: \t0\n",
      "Iteration: \t66 / 100\n",
      "Confirmed: \t63\n",
      "Tentative: \t5\n",
      "Rejected: \t0\n",
      "Iteration: \t67 / 100\n",
      "Confirmed: \t63\n",
      "Tentative: \t5\n",
      "Rejected: \t0\n",
      "Iteration: \t68 / 100\n",
      "Confirmed: \t63\n",
      "Tentative: \t5\n",
      "Rejected: \t0\n",
      "Iteration: \t69 / 100\n",
      "Confirmed: \t63\n",
      "Tentative: \t5\n",
      "Rejected: \t0\n",
      "Iteration: \t70 / 100\n",
      "Confirmed: \t64\n",
      "Tentative: \t4\n",
      "Rejected: \t0\n",
      "Iteration: \t71 / 100\n",
      "Confirmed: \t64\n",
      "Tentative: \t4\n",
      "Rejected: \t0\n",
      "Iteration: \t72 / 100\n",
      "Confirmed: \t64\n",
      "Tentative: \t4\n",
      "Rejected: \t0\n",
      "Iteration: \t73 / 100\n",
      "Confirmed: \t64\n",
      "Tentative: \t4\n",
      "Rejected: \t0\n",
      "Iteration: \t74 / 100\n",
      "Confirmed: \t64\n",
      "Tentative: \t4\n",
      "Rejected: \t0\n",
      "Iteration: \t75 / 100\n",
      "Confirmed: \t64\n",
      "Tentative: \t4\n",
      "Rejected: \t0\n",
      "Iteration: \t76 / 100\n",
      "Confirmed: \t64\n",
      "Tentative: \t4\n",
      "Rejected: \t0\n",
      "Iteration: \t77 / 100\n",
      "Confirmed: \t64\n",
      "Tentative: \t4\n",
      "Rejected: \t0\n",
      "Iteration: \t78 / 100\n",
      "Confirmed: \t64\n",
      "Tentative: \t4\n",
      "Rejected: \t0\n",
      "Iteration: \t79 / 100\n",
      "Confirmed: \t64\n",
      "Tentative: \t4\n",
      "Rejected: \t0\n",
      "Iteration: \t80 / 100\n",
      "Confirmed: \t64\n",
      "Tentative: \t4\n",
      "Rejected: \t0\n",
      "Iteration: \t81 / 100\n",
      "Confirmed: \t64\n",
      "Tentative: \t4\n",
      "Rejected: \t0\n",
      "Iteration: \t82 / 100\n",
      "Confirmed: \t64\n",
      "Tentative: \t4\n",
      "Rejected: \t0\n",
      "Iteration: \t83 / 100\n",
      "Confirmed: \t64\n",
      "Tentative: \t4\n",
      "Rejected: \t0\n",
      "Iteration: \t84 / 100\n",
      "Confirmed: \t64\n",
      "Tentative: \t4\n",
      "Rejected: \t0\n",
      "Iteration: \t85 / 100\n",
      "Confirmed: \t64\n",
      "Tentative: \t3\n",
      "Rejected: \t1\n",
      "Iteration: \t86 / 100\n",
      "Confirmed: \t64\n",
      "Tentative: \t3\n",
      "Rejected: \t1\n",
      "Iteration: \t87 / 100\n",
      "Confirmed: \t64\n",
      "Tentative: \t3\n",
      "Rejected: \t1\n",
      "Iteration: \t88 / 100\n",
      "Confirmed: \t64\n",
      "Tentative: \t3\n",
      "Rejected: \t1\n",
      "Iteration: \t89 / 100\n",
      "Confirmed: \t64\n",
      "Tentative: \t3\n",
      "Rejected: \t1\n",
      "Iteration: \t90 / 100\n",
      "Confirmed: \t64\n",
      "Tentative: \t3\n",
      "Rejected: \t1\n",
      "Iteration: \t91 / 100\n",
      "Confirmed: \t64\n",
      "Tentative: \t3\n",
      "Rejected: \t1\n",
      "Iteration: \t92 / 100\n",
      "Confirmed: \t64\n",
      "Tentative: \t3\n",
      "Rejected: \t1\n",
      "Iteration: \t93 / 100\n",
      "Confirmed: \t64\n",
      "Tentative: \t3\n",
      "Rejected: \t1\n",
      "Iteration: \t94 / 100\n",
      "Confirmed: \t64\n",
      "Tentative: \t3\n",
      "Rejected: \t1\n",
      "Iteration: \t95 / 100\n",
      "Confirmed: \t64\n",
      "Tentative: \t3\n",
      "Rejected: \t1\n",
      "Iteration: \t96 / 100\n",
      "Confirmed: \t64\n",
      "Tentative: \t3\n",
      "Rejected: \t1\n",
      "Iteration: \t97 / 100\n",
      "Confirmed: \t64\n",
      "Tentative: \t3\n",
      "Rejected: \t1\n",
      "Iteration: \t98 / 100\n",
      "Confirmed: \t64\n",
      "Tentative: \t3\n",
      "Rejected: \t1\n",
      "Iteration: \t99 / 100\n",
      "Confirmed: \t64\n",
      "Tentative: \t3\n",
      "Rejected: \t1\n",
      "\n",
      "\n",
      "BorutaPy finished running.\n",
      "\n",
      "Iteration: \t100 / 100\n",
      "Confirmed: \t64\n",
      "Tentative: \t1\n",
      "Rejected: \t1\n"
     ]
    },
    {
     "data": {
      "text/plain": [
       "BorutaPy(estimator=RandomForestClassifier(max_depth=5, n_estimators=231,\n",
       "                                          n_jobs=-1,\n",
       "                                          random_state=RandomState(MT19937) at 0x193BE512740),\n",
       "         n_estimators='auto',\n",
       "         random_state=RandomState(MT19937) at 0x193BE512740, verbose=2)"
      ]
     },
     "execution_count": 197,
     "metadata": {},
     "output_type": "execute_result"
    }
   ],
   "source": [
    "boruta_feature_selector = BorutaPy(rf, n_estimators='auto', verbose=2, max_iter = 100)\n",
    "boruta_feature_selector.fit(X_train.values, y_train.values)"
   ]
  },
  {
   "cell_type": "code",
   "execution_count": 143,
   "metadata": {},
   "outputs": [],
   "source": [
    "X_train_wrapper = boruta_feature_selector.transform(X_train.values)\n",
    "X_test_wrapper = boruta_feature_selector.transform(X_test.values)"
   ]
  },
  {
   "cell_type": "code",
   "execution_count": 144,
   "metadata": {},
   "outputs": [
    {
     "name": "stdout",
     "output_type": "stream",
     "text": [
      "['Open', 'High', 'Low', 'Close', 'Volume', 'SMA_10', 'EMA_10', 'EMA_20', 'MACD', 'MACD_DIFF', 'MACD_SIGNAL', 'KST', 'KST_DIFF', 'KST_SIGNAL', 'STC', 'DPO_10', 'DPO_20', 'CCI_10', 'CCI_20', 'MassIndex', 'TRIX_10', 'TRIX_20', 'VI_10', 'VI_20', 'ADX_10', 'ADX_20', 'MFI_10', 'MFI_20', 'ADI', 'OBV', 'CMF_10', 'CMF_20', 'FI_10', 'FI_20', 'EMV', 'EMV_SMA', 'VPT', 'NVI', 'VWAP_10', 'ATR_10', 'ATR_20', 'BB_HIGH', 'BB_LOW', 'BB_EMA', 'KC_HIGH', 'KC_LOW', 'UI_10', 'UI_20', 'RSI_10', 'RSI_20', 'SRSI', 'TSI', 'UO', 'SR', 'WR', 'AO', 'KAMA', 'ROC_10', 'ROC_20', 'PPO', 'PVO']\n"
     ]
    }
   ],
   "source": [
    "features = X.columns\n",
    "final_features = list()\n",
    "indexes = np.where(boruta_feature_selector.support_ == True)\n",
    "for x in np.nditer(indexes):\n",
    "    final_features.append(features[x])\n",
    "print(final_features)"
   ]
  },
  {
   "cell_type": "code",
   "execution_count": 145,
   "metadata": {},
   "outputs": [
    {
     "data": {
      "text/plain": [
       "61"
      ]
     },
     "execution_count": 145,
     "metadata": {},
     "output_type": "execute_result"
    }
   ],
   "source": [
    "len(final_features)"
   ]
  },
  {
   "cell_type": "code",
   "execution_count": 146,
   "metadata": {},
   "outputs": [
    {
     "data": {
      "text/plain": [
       "RandomForestClassifier(max_depth=5, n_jobs=-1)"
      ]
     },
     "execution_count": 146,
     "metadata": {},
     "output_type": "execute_result"
    }
   ],
   "source": [
    "rf_wrapper = RandomForestClassifier(n_jobs=-1, max_depth=5)\n",
    "rf_wrapper.fit(X_train_wrapper, y_train)"
   ]
  },
  {
   "cell_type": "code",
   "execution_count": 191,
   "metadata": {},
   "outputs": [],
   "source": [
    "predicted = pd.DataFrame(rf_wrapper.predict(X_test_wrapper))\n",
    "probs = pd.DataFrame(rf_wrapper.predict_proba(X_test_wrapper))\n",
    "\n",
    "# Store metrics\n",
    "rf_accuracy = metrics.accuracy_score(y_test, predicted)\n",
    "rf_confus_matrix = metrics.confusion_matrix(y_test, predicted)\n",
    "rf_classification_report = metrics.classification_report(y_test, predicted, target_names=labs)"
   ]
  },
  {
   "cell_type": "code",
   "execution_count": 192,
   "metadata": {},
   "outputs": [
    {
     "data": {
      "text/plain": [
       "0.9146341463414634"
      ]
     },
     "execution_count": 192,
     "metadata": {},
     "output_type": "execute_result"
    }
   ],
   "source": [
    "rf_accuracy"
   ]
  },
  {
   "cell_type": "code",
   "execution_count": 193,
   "metadata": {},
   "outputs": [
    {
     "name": "stdout",
     "output_type": "stream",
     "text": [
      "              precision    recall  f1-score   support\n",
      "\n",
      "        Bear       0.96      0.93      0.95        29\n",
      "   No Effect       0.54      0.88      0.67         8\n",
      "        Bull       1.00      0.91      0.95        45\n",
      "\n",
      "    accuracy                           0.91        82\n",
      "   macro avg       0.83      0.91      0.86        82\n",
      "weighted avg       0.94      0.91      0.92        82\n",
      "\n"
     ]
    }
   ],
   "source": [
    "print(rf_classification_report)"
   ]
  },
  {
   "cell_type": "markdown",
   "metadata": {},
   "source": [
    "### Embedded Methods"
   ]
  },
  {
   "cell_type": "code",
   "execution_count": 164,
   "metadata": {},
   "outputs": [],
   "source": [
    "importances = pd.DataFrame({'Features': features.values, 'Importance': rf.feature_importances_})"
   ]
  },
  {
   "cell_type": "code",
   "execution_count": 168,
   "metadata": {},
   "outputs": [],
   "source": [
    "importances.sort_values('Importance', ascending=False, inplace=True)"
   ]
  },
  {
   "cell_type": "code",
   "execution_count": 169,
   "metadata": {},
   "outputs": [],
   "source": [
    "importances['CumImportance'] = importances['Importance'].cumsum()"
   ]
  },
  {
   "cell_type": "code",
   "execution_count": 175,
   "metadata": {},
   "outputs": [],
   "source": [
    "top = importances.loc[importances['CumImportance'] <= .955]"
   ]
  },
  {
   "cell_type": "code",
   "execution_count": 181,
   "metadata": {},
   "outputs": [],
   "source": [
    "X_train_em = X_train.loc[:, features[top.index]]\n",
    "X_test_em = X_test.loc[:, features[top.index]]"
   ]
  },
  {
   "cell_type": "code",
   "execution_count": 182,
   "metadata": {},
   "outputs": [
    {
     "data": {
      "text/plain": [
       "RandomForestClassifier(max_depth=5, n_jobs=-1)"
      ]
     },
     "execution_count": 182,
     "metadata": {},
     "output_type": "execute_result"
    }
   ],
   "source": [
    "rf_em = RandomForestClassifier(n_jobs=-1, max_depth=5)\n",
    "rf_em.fit(X_train_em, y_train)"
   ]
  },
  {
   "cell_type": "code",
   "execution_count": 194,
   "metadata": {},
   "outputs": [],
   "source": [
    "predicted = pd.DataFrame(rf_em.predict(X_test_em))\n",
    "probs = pd.DataFrame(rf_em.predict_proba(X_test_em))\n",
    "\n",
    "# Store metrics\n",
    "rf_accuracy = metrics.accuracy_score(y_test, predicted)\n",
    "rf_confus_matrix = metrics.confusion_matrix(y_test, predicted)\n",
    "rf_classification_report = metrics.classification_report(y_test, predicted, target_names=labs)"
   ]
  },
  {
   "cell_type": "code",
   "execution_count": 195,
   "metadata": {},
   "outputs": [
    {
     "data": {
      "text/plain": [
       "0.9024390243902439"
      ]
     },
     "execution_count": 195,
     "metadata": {},
     "output_type": "execute_result"
    }
   ],
   "source": [
    "rf_accuracy"
   ]
  },
  {
   "cell_type": "code",
   "execution_count": 196,
   "metadata": {},
   "outputs": [
    {
     "name": "stdout",
     "output_type": "stream",
     "text": [
      "              precision    recall  f1-score   support\n",
      "\n",
      "        Bear       0.96      0.93      0.95        29\n",
      "   No Effect       0.50      0.88      0.64         8\n",
      "        Bull       1.00      0.89      0.94        45\n",
      "\n",
      "    accuracy                           0.90        82\n",
      "   macro avg       0.82      0.90      0.84        82\n",
      "weighted avg       0.94      0.90      0.91        82\n",
      "\n"
     ]
    }
   ],
   "source": [
    "print(rf_classification_report)"
   ]
  },
  {
   "cell_type": "code",
   "execution_count": 199,
   "metadata": {},
   "outputs": [],
   "source": [
    "svm_model_em = SVC(probability=True)\n",
    "svm_model_em = svm_model_filter.fit(X_train_em, y_train)"
   ]
  },
  {
   "cell_type": "code",
   "execution_count": 201,
   "metadata": {},
   "outputs": [],
   "source": [
    "predicted = pd.DataFrame(svm_model_em.predict(X_test_em))\n",
    "probs = pd.DataFrame(svm_model_em.predict_proba(X_test_em))\n",
    "\n",
    "# Store metrics\n",
    "svm_accuracy = metrics.accuracy_score(y_test, predicted)\n",
    "svm_confus_matrix = metrics.confusion_matrix(y_test, predicted)\n",
    "svm_classification_report = metrics.classification_report(y_test, predicted, target_names=labs)"
   ]
  },
  {
   "cell_type": "code",
   "execution_count": 202,
   "metadata": {},
   "outputs": [
    {
     "data": {
      "text/plain": [
       "0.9390243902439024"
      ]
     },
     "execution_count": 202,
     "metadata": {},
     "output_type": "execute_result"
    }
   ],
   "source": [
    "svm_accuracy"
   ]
  },
  {
   "cell_type": "code",
   "execution_count": 203,
   "metadata": {},
   "outputs": [
    {
     "name": "stdout",
     "output_type": "stream",
     "text": [
      "              precision    recall  f1-score   support\n",
      "\n",
      "        Bear       0.96      0.93      0.95        29\n",
      "   No Effect       0.64      0.88      0.74         8\n",
      "        Bull       1.00      0.96      0.98        45\n",
      "\n",
      "    accuracy                           0.94        82\n",
      "   macro avg       0.87      0.92      0.89        82\n",
      "weighted avg       0.95      0.94      0.94        82\n",
      "\n"
     ]
    }
   ],
   "source": [
    "print(svm_classification_report)"
   ]
  },
  {
   "cell_type": "markdown",
   "metadata": {},
   "source": [
    "### PCA"
   ]
  },
  {
   "cell_type": "code",
   "execution_count": 57,
   "metadata": {},
   "outputs": [],
   "source": [
    "from sklearn.decomposition import PCA"
   ]
  },
  {
   "cell_type": "code",
   "execution_count": 70,
   "metadata": {},
   "outputs": [],
   "source": [
    "pca = PCA(n_components=30)\n",
    "principalComponents = pca.fit_transform(X_train)"
   ]
  },
  {
   "cell_type": "code",
   "execution_count": 71,
   "metadata": {},
   "outputs": [
    {
     "data": {
      "text/plain": [
       "(2769, 30)"
      ]
     },
     "execution_count": 71,
     "metadata": {},
     "output_type": "execute_result"
    }
   ],
   "source": [
    "principalComponents.shape"
   ]
  },
  {
   "cell_type": "code",
   "execution_count": 72,
   "metadata": {},
   "outputs": [],
   "source": [
    "principalComponents_test = pca.transform(X_test)"
   ]
  },
  {
   "cell_type": "code",
   "execution_count": 73,
   "metadata": {},
   "outputs": [],
   "source": [
    "svm_model_pca = SVC(probability=True)\n",
    "svm_model_pca = svm_model_pca.fit(principalComponents, y_train)"
   ]
  },
  {
   "cell_type": "code",
   "execution_count": 74,
   "metadata": {},
   "outputs": [],
   "source": [
    "predicted = pd.DataFrame(svm_model_pca.predict(principalComponents_test))\n",
    "probs = pd.DataFrame(svm_model_pca.predict_proba(principalComponents_test))\n",
    "\n",
    "# Store metrics\n",
    "svm_accuracy = metrics.accuracy_score(y_test, predicted)\n",
    "# svm_roc_auc = metrics.roc_auc_score(y_test, probs[1])\n",
    "svm_confus_matrix = metrics.confusion_matrix(y_test, predicted)\n",
    "svm_classification_report = metrics.classification_report(y_test, predicted, target_names=labs, zero_division=0)"
   ]
  },
  {
   "cell_type": "code",
   "execution_count": 75,
   "metadata": {},
   "outputs": [
    {
     "data": {
      "text/plain": [
       "0.14634146341463414"
      ]
     },
     "execution_count": 75,
     "metadata": {},
     "output_type": "execute_result"
    }
   ],
   "source": [
    "svm_accuracy"
   ]
  },
  {
   "cell_type": "code",
   "execution_count": 76,
   "metadata": {},
   "outputs": [
    {
     "name": "stdout",
     "output_type": "stream",
     "text": [
      "              precision    recall  f1-score   support\n",
      "\n",
      "        Bear       0.00      0.00      0.00        29\n",
      "   No Effect       0.10      1.00      0.19         8\n",
      "        Bull       1.00      0.09      0.16        45\n",
      "\n",
      "    accuracy                           0.15        82\n",
      "   macro avg       0.37      0.36      0.12        82\n",
      "weighted avg       0.56      0.15      0.11        82\n",
      "\n"
     ]
    }
   ],
   "source": [
    "print(svm_classification_report)"
   ]
  },
  {
   "cell_type": "markdown",
   "metadata": {},
   "source": [
    "### Standardization"
   ]
  },
  {
   "cell_type": "code",
   "execution_count": 77,
   "metadata": {},
   "outputs": [],
   "source": [
    "from sklearn.preprocessing import StandardScaler\n",
    "scaler = StandardScaler()\n",
    "# Fit on training set only.\n",
    "scaler.fit(X_train)\n",
    "# Apply transform to both the training set and the test set.\n",
    "X_train_scaled = scaler.transform(X_train)\n",
    "X_test_scaled = scaler.transform(X_test)"
   ]
  },
  {
   "cell_type": "code",
   "execution_count": 56,
   "metadata": {},
   "outputs": [],
   "source": [
    "svm_model_scale = SVC(probability=True)\n",
    "svm_model_scale = svm_model_scale.fit(X_train_scaled, y_train)"
   ]
  },
  {
   "cell_type": "code",
   "execution_count": 78,
   "metadata": {},
   "outputs": [],
   "source": [
    "predicted = pd.DataFrame(svm_model_scale.predict(X_test_scaled))\n",
    "probs = pd.DataFrame(svm_model_scale.predict_proba(X_test_scaled))\n",
    "\n",
    "# Store metrics\n",
    "svm_accuracy = metrics.accuracy_score(y_test, predicted)\n",
    "# svm_roc_auc = metrics.roc_auc_score(y_test, probs[1])\n",
    "svm_confus_matrix = metrics.confusion_matrix(y_test, predicted)\n",
    "svm_classification_report = metrics.classification_report(y_test, predicted, target_names=labs, zero_division=0)"
   ]
  },
  {
   "cell_type": "code",
   "execution_count": 79,
   "metadata": {},
   "outputs": [
    {
     "data": {
      "text/plain": [
       "0.8902439024390244"
      ]
     },
     "execution_count": 79,
     "metadata": {},
     "output_type": "execute_result"
    }
   ],
   "source": [
    "svm_accuracy"
   ]
  },
  {
   "cell_type": "code",
   "execution_count": 80,
   "metadata": {},
   "outputs": [
    {
     "name": "stdout",
     "output_type": "stream",
     "text": [
      "              precision    recall  f1-score   support\n",
      "\n",
      "        Bear       1.00      0.83      0.91        29\n",
      "   No Effect       0.47      1.00      0.64         8\n",
      "        Bull       1.00      0.91      0.95        45\n",
      "\n",
      "    accuracy                           0.89        82\n",
      "   macro avg       0.82      0.91      0.83        82\n",
      "weighted avg       0.95      0.89      0.91        82\n",
      "\n"
     ]
    }
   ],
   "source": [
    "print(svm_classification_report)"
   ]
  },
  {
   "cell_type": "code",
   "execution_count": 81,
   "metadata": {},
   "outputs": [
    {
     "data": {
      "text/html": [
       "<div>\n",
       "<style scoped>\n",
       "    .dataframe tbody tr th:only-of-type {\n",
       "        vertical-align: middle;\n",
       "    }\n",
       "\n",
       "    .dataframe tbody tr th {\n",
       "        vertical-align: top;\n",
       "    }\n",
       "\n",
       "    .dataframe thead th {\n",
       "        text-align: right;\n",
       "    }\n",
       "</style>\n",
       "<table border=\"1\" class=\"dataframe\">\n",
       "  <thead>\n",
       "    <tr style=\"text-align: right;\">\n",
       "      <th></th>\n",
       "      <th>MMM</th>\n",
       "      <th>ABT</th>\n",
       "      <th>ABBV</th>\n",
       "      <th>ABMD</th>\n",
       "      <th>ACN</th>\n",
       "      <th>ATVI</th>\n",
       "      <th>ADBE</th>\n",
       "      <th>AMD</th>\n",
       "      <th>AAP</th>\n",
       "      <th>AES</th>\n",
       "      <th>...</th>\n",
       "      <th>WLTW</th>\n",
       "      <th>WYNN</th>\n",
       "      <th>XEL</th>\n",
       "      <th>XLNX</th>\n",
       "      <th>XYL</th>\n",
       "      <th>YUM</th>\n",
       "      <th>ZBRA</th>\n",
       "      <th>ZBH</th>\n",
       "      <th>ZION</th>\n",
       "      <th>ZTS</th>\n",
       "    </tr>\n",
       "    <tr>\n",
       "      <th>Date</th>\n",
       "      <th></th>\n",
       "      <th></th>\n",
       "      <th></th>\n",
       "      <th></th>\n",
       "      <th></th>\n",
       "      <th></th>\n",
       "      <th></th>\n",
       "      <th></th>\n",
       "      <th></th>\n",
       "      <th></th>\n",
       "      <th></th>\n",
       "      <th></th>\n",
       "      <th></th>\n",
       "      <th></th>\n",
       "      <th></th>\n",
       "      <th></th>\n",
       "      <th></th>\n",
       "      <th></th>\n",
       "      <th></th>\n",
       "      <th></th>\n",
       "      <th></th>\n",
       "    </tr>\n",
       "  </thead>\n",
       "  <tbody>\n",
       "    <tr>\n",
       "      <th>2003-12-31</th>\n",
       "      <td>54.158398</td>\n",
       "      <td>12.739085</td>\n",
       "      <td>NaN</td>\n",
       "      <td>6.990000</td>\n",
       "      <td>19.636719</td>\n",
       "      <td>3.045087</td>\n",
       "      <td>19.508415</td>\n",
       "      <td>14.900000</td>\n",
       "      <td>25.577316</td>\n",
       "      <td>7.280872</td>\n",
       "      <td>...</td>\n",
       "      <td>59.231983</td>\n",
       "      <td>15.456899</td>\n",
       "      <td>8.669735</td>\n",
       "      <td>27.330851</td>\n",
       "      <td>NaN</td>\n",
       "      <td>9.113444</td>\n",
       "      <td>44.246666</td>\n",
       "      <td>65.001007</td>\n",
       "      <td>47.138226</td>\n",
       "      <td>NaN</td>\n",
       "    </tr>\n",
       "    <tr>\n",
       "      <th>2004-01-02</th>\n",
       "      <td>53.101070</td>\n",
       "      <td>12.780089</td>\n",
       "      <td>NaN</td>\n",
       "      <td>7.000000</td>\n",
       "      <td>19.338285</td>\n",
       "      <td>3.142075</td>\n",
       "      <td>19.518400</td>\n",
       "      <td>14.860000</td>\n",
       "      <td>25.583614</td>\n",
       "      <td>7.311727</td>\n",
       "      <td>...</td>\n",
       "      <td>59.996933</td>\n",
       "      <td>15.650038</td>\n",
       "      <td>8.664631</td>\n",
       "      <td>27.245951</td>\n",
       "      <td>NaN</td>\n",
       "      <td>8.882961</td>\n",
       "      <td>43.586666</td>\n",
       "      <td>64.631683</td>\n",
       "      <td>46.262157</td>\n",
       "      <td>NaN</td>\n",
       "    </tr>\n",
       "    <tr>\n",
       "      <th>2004-01-05</th>\n",
       "      <td>54.113800</td>\n",
       "      <td>12.780089</td>\n",
       "      <td>NaN</td>\n",
       "      <td>6.910000</td>\n",
       "      <td>19.890385</td>\n",
       "      <td>3.123681</td>\n",
       "      <td>19.867832</td>\n",
       "      <td>15.200000</td>\n",
       "      <td>25.351082</td>\n",
       "      <td>7.458268</td>\n",
       "      <td>...</td>\n",
       "      <td>60.153389</td>\n",
       "      <td>15.837661</td>\n",
       "      <td>8.664631</td>\n",
       "      <td>28.123247</td>\n",
       "      <td>NaN</td>\n",
       "      <td>9.012777</td>\n",
       "      <td>43.666668</td>\n",
       "      <td>64.050018</td>\n",
       "      <td>46.162266</td>\n",
       "      <td>NaN</td>\n",
       "    </tr>\n",
       "    <tr>\n",
       "      <th>2004-01-06</th>\n",
       "      <td>53.948200</td>\n",
       "      <td>12.687147</td>\n",
       "      <td>NaN</td>\n",
       "      <td>6.990000</td>\n",
       "      <td>19.659101</td>\n",
       "      <td>3.138731</td>\n",
       "      <td>19.887802</td>\n",
       "      <td>15.610000</td>\n",
       "      <td>25.803566</td>\n",
       "      <td>7.504542</td>\n",
       "      <td>...</td>\n",
       "      <td>60.918354</td>\n",
       "      <td>15.600375</td>\n",
       "      <td>8.664631</td>\n",
       "      <td>27.946375</td>\n",
       "      <td>NaN</td>\n",
       "      <td>9.282997</td>\n",
       "      <td>43.766666</td>\n",
       "      <td>63.736057</td>\n",
       "      <td>46.800102</td>\n",
       "      <td>NaN</td>\n",
       "    </tr>\n",
       "    <tr>\n",
       "      <th>2004-01-07</th>\n",
       "      <td>53.018284</td>\n",
       "      <td>12.821095</td>\n",
       "      <td>NaN</td>\n",
       "      <td>7.160000</td>\n",
       "      <td>19.211456</td>\n",
       "      <td>3.076859</td>\n",
       "      <td>19.694550</td>\n",
       "      <td>15.660000</td>\n",
       "      <td>26.614231</td>\n",
       "      <td>7.751354</td>\n",
       "      <td>...</td>\n",
       "      <td>61.457306</td>\n",
       "      <td>15.738331</td>\n",
       "      <td>8.741216</td>\n",
       "      <td>27.670456</td>\n",
       "      <td>NaN</td>\n",
       "      <td>9.124045</td>\n",
       "      <td>44.500000</td>\n",
       "      <td>64.446991</td>\n",
       "      <td>46.477341</td>\n",
       "      <td>NaN</td>\n",
       "    </tr>\n",
       "    <tr>\n",
       "      <th>...</th>\n",
       "      <td>...</td>\n",
       "      <td>...</td>\n",
       "      <td>...</td>\n",
       "      <td>...</td>\n",
       "      <td>...</td>\n",
       "      <td>...</td>\n",
       "      <td>...</td>\n",
       "      <td>...</td>\n",
       "      <td>...</td>\n",
       "      <td>...</td>\n",
       "      <td>...</td>\n",
       "      <td>...</td>\n",
       "      <td>...</td>\n",
       "      <td>...</td>\n",
       "      <td>...</td>\n",
       "      <td>...</td>\n",
       "      <td>...</td>\n",
       "      <td>...</td>\n",
       "      <td>...</td>\n",
       "      <td>...</td>\n",
       "      <td>...</td>\n",
       "    </tr>\n",
       "    <tr>\n",
       "      <th>2021-04-21</th>\n",
       "      <td>200.880005</td>\n",
       "      <td>122.599998</td>\n",
       "      <td>110.800003</td>\n",
       "      <td>342.640015</td>\n",
       "      <td>290.720001</td>\n",
       "      <td>93.180000</td>\n",
       "      <td>512.340027</td>\n",
       "      <td>81.610001</td>\n",
       "      <td>199.869995</td>\n",
       "      <td>28.389999</td>\n",
       "      <td>...</td>\n",
       "      <td>235.740005</td>\n",
       "      <td>125.989998</td>\n",
       "      <td>71.320000</td>\n",
       "      <td>126.949997</td>\n",
       "      <td>109.480003</td>\n",
       "      <td>117.449997</td>\n",
       "      <td>491.369995</td>\n",
       "      <td>176.649994</td>\n",
       "      <td>53.650002</td>\n",
       "      <td>170.149994</td>\n",
       "    </tr>\n",
       "    <tr>\n",
       "      <th>2021-04-22</th>\n",
       "      <td>200.899994</td>\n",
       "      <td>123.500000</td>\n",
       "      <td>110.050003</td>\n",
       "      <td>343.399994</td>\n",
       "      <td>290.160004</td>\n",
       "      <td>93.699997</td>\n",
       "      <td>507.290009</td>\n",
       "      <td>79.059998</td>\n",
       "      <td>200.300003</td>\n",
       "      <td>28.320000</td>\n",
       "      <td>...</td>\n",
       "      <td>233.149994</td>\n",
       "      <td>124.379997</td>\n",
       "      <td>71.120003</td>\n",
       "      <td>123.080002</td>\n",
       "      <td>109.080002</td>\n",
       "      <td>117.820000</td>\n",
       "      <td>487.350006</td>\n",
       "      <td>177.380005</td>\n",
       "      <td>52.560001</td>\n",
       "      <td>169.070007</td>\n",
       "    </tr>\n",
       "    <tr>\n",
       "      <th>2021-04-23</th>\n",
       "      <td>202.199997</td>\n",
       "      <td>123.309998</td>\n",
       "      <td>111.379997</td>\n",
       "      <td>351.029999</td>\n",
       "      <td>291.739990</td>\n",
       "      <td>93.019997</td>\n",
       "      <td>515.840027</td>\n",
       "      <td>82.760002</td>\n",
       "      <td>199.750000</td>\n",
       "      <td>28.299999</td>\n",
       "      <td>...</td>\n",
       "      <td>232.889999</td>\n",
       "      <td>124.150002</td>\n",
       "      <td>71.080002</td>\n",
       "      <td>129.660004</td>\n",
       "      <td>110.480003</td>\n",
       "      <td>117.720001</td>\n",
       "      <td>497.410004</td>\n",
       "      <td>177.619995</td>\n",
       "      <td>54.270000</td>\n",
       "      <td>170.539993</td>\n",
       "    </tr>\n",
       "    <tr>\n",
       "      <th>2021-04-26</th>\n",
       "      <td>199.630005</td>\n",
       "      <td>122.580002</td>\n",
       "      <td>111.389999</td>\n",
       "      <td>348.200012</td>\n",
       "      <td>289.519989</td>\n",
       "      <td>94.239998</td>\n",
       "      <td>515.700012</td>\n",
       "      <td>85.410004</td>\n",
       "      <td>197.139999</td>\n",
       "      <td>28.209999</td>\n",
       "      <td>...</td>\n",
       "      <td>231.300003</td>\n",
       "      <td>125.000000</td>\n",
       "      <td>70.599998</td>\n",
       "      <td>133.960007</td>\n",
       "      <td>110.440002</td>\n",
       "      <td>115.680000</td>\n",
       "      <td>498.500000</td>\n",
       "      <td>175.720001</td>\n",
       "      <td>54.610001</td>\n",
       "      <td>169.800003</td>\n",
       "    </tr>\n",
       "    <tr>\n",
       "      <th>2021-04-27</th>\n",
       "      <td>194.449997</td>\n",
       "      <td>121.699997</td>\n",
       "      <td>111.440002</td>\n",
       "      <td>340.630005</td>\n",
       "      <td>290.250000</td>\n",
       "      <td>91.599998</td>\n",
       "      <td>517.320007</td>\n",
       "      <td>85.209999</td>\n",
       "      <td>197.279999</td>\n",
       "      <td>27.799999</td>\n",
       "      <td>...</td>\n",
       "      <td>236.250000</td>\n",
       "      <td>127.750000</td>\n",
       "      <td>70.000000</td>\n",
       "      <td>133.610001</td>\n",
       "      <td>111.360001</td>\n",
       "      <td>116.410004</td>\n",
       "      <td>501.750000</td>\n",
       "      <td>176.350006</td>\n",
       "      <td>55.150002</td>\n",
       "      <td>169.750000</td>\n",
       "    </tr>\n",
       "  </tbody>\n",
       "</table>\n",
       "<p>4360 rows × 503 columns</p>\n",
       "</div>"
      ],
      "text/plain": [
       "                   MMM         ABT        ABBV        ABMD         ACN  \\\n",
       "Date                                                                     \n",
       "2003-12-31   54.158398   12.739085         NaN    6.990000   19.636719   \n",
       "2004-01-02   53.101070   12.780089         NaN    7.000000   19.338285   \n",
       "2004-01-05   54.113800   12.780089         NaN    6.910000   19.890385   \n",
       "2004-01-06   53.948200   12.687147         NaN    6.990000   19.659101   \n",
       "2004-01-07   53.018284   12.821095         NaN    7.160000   19.211456   \n",
       "...                ...         ...         ...         ...         ...   \n",
       "2021-04-21  200.880005  122.599998  110.800003  342.640015  290.720001   \n",
       "2021-04-22  200.899994  123.500000  110.050003  343.399994  290.160004   \n",
       "2021-04-23  202.199997  123.309998  111.379997  351.029999  291.739990   \n",
       "2021-04-26  199.630005  122.580002  111.389999  348.200012  289.519989   \n",
       "2021-04-27  194.449997  121.699997  111.440002  340.630005  290.250000   \n",
       "\n",
       "                 ATVI        ADBE        AMD         AAP        AES  ...  \\\n",
       "Date                                                                 ...   \n",
       "2003-12-31   3.045087   19.508415  14.900000   25.577316   7.280872  ...   \n",
       "2004-01-02   3.142075   19.518400  14.860000   25.583614   7.311727  ...   \n",
       "2004-01-05   3.123681   19.867832  15.200000   25.351082   7.458268  ...   \n",
       "2004-01-06   3.138731   19.887802  15.610000   25.803566   7.504542  ...   \n",
       "2004-01-07   3.076859   19.694550  15.660000   26.614231   7.751354  ...   \n",
       "...               ...         ...        ...         ...        ...  ...   \n",
       "2021-04-21  93.180000  512.340027  81.610001  199.869995  28.389999  ...   \n",
       "2021-04-22  93.699997  507.290009  79.059998  200.300003  28.320000  ...   \n",
       "2021-04-23  93.019997  515.840027  82.760002  199.750000  28.299999  ...   \n",
       "2021-04-26  94.239998  515.700012  85.410004  197.139999  28.209999  ...   \n",
       "2021-04-27  91.599998  517.320007  85.209999  197.279999  27.799999  ...   \n",
       "\n",
       "                  WLTW        WYNN        XEL        XLNX         XYL  \\\n",
       "Date                                                                    \n",
       "2003-12-31   59.231983   15.456899   8.669735   27.330851         NaN   \n",
       "2004-01-02   59.996933   15.650038   8.664631   27.245951         NaN   \n",
       "2004-01-05   60.153389   15.837661   8.664631   28.123247         NaN   \n",
       "2004-01-06   60.918354   15.600375   8.664631   27.946375         NaN   \n",
       "2004-01-07   61.457306   15.738331   8.741216   27.670456         NaN   \n",
       "...                ...         ...        ...         ...         ...   \n",
       "2021-04-21  235.740005  125.989998  71.320000  126.949997  109.480003   \n",
       "2021-04-22  233.149994  124.379997  71.120003  123.080002  109.080002   \n",
       "2021-04-23  232.889999  124.150002  71.080002  129.660004  110.480003   \n",
       "2021-04-26  231.300003  125.000000  70.599998  133.960007  110.440002   \n",
       "2021-04-27  236.250000  127.750000  70.000000  133.610001  111.360001   \n",
       "\n",
       "                   YUM        ZBRA         ZBH       ZION         ZTS  \n",
       "Date                                                                   \n",
       "2003-12-31    9.113444   44.246666   65.001007  47.138226         NaN  \n",
       "2004-01-02    8.882961   43.586666   64.631683  46.262157         NaN  \n",
       "2004-01-05    9.012777   43.666668   64.050018  46.162266         NaN  \n",
       "2004-01-06    9.282997   43.766666   63.736057  46.800102         NaN  \n",
       "2004-01-07    9.124045   44.500000   64.446991  46.477341         NaN  \n",
       "...                ...         ...         ...        ...         ...  \n",
       "2021-04-21  117.449997  491.369995  176.649994  53.650002  170.149994  \n",
       "2021-04-22  117.820000  487.350006  177.380005  52.560001  169.070007  \n",
       "2021-04-23  117.720001  497.410004  177.619995  54.270000  170.539993  \n",
       "2021-04-26  115.680000  498.500000  175.720001  54.610001  169.800003  \n",
       "2021-04-27  116.410004  501.750000  176.350006  55.150002  169.750000  \n",
       "\n",
       "[4360 rows x 503 columns]"
      ]
     },
     "execution_count": 81,
     "metadata": {},
     "output_type": "execute_result"
    }
   ],
   "source": [
    "price_table"
   ]
  },
  {
   "cell_type": "code",
   "execution_count": null,
   "metadata": {},
   "outputs": [],
   "source": []
  }
 ],
 "metadata": {
  "kernelspec": {
   "display_name": "Python 3",
   "language": "python",
   "name": "python3"
  },
  "language_info": {
   "codemirror_mode": {
    "name": "ipython",
    "version": 3
   },
   "file_extension": ".py",
   "mimetype": "text/x-python",
   "name": "python",
   "nbconvert_exporter": "python",
   "pygments_lexer": "ipython3",
   "version": "3.8.5"
  }
 },
 "nbformat": 4,
 "nbformat_minor": 4
}
